

{
 "cells": [
  {
   "cell_type": "markdown",
   "id": "6303b40d",
   "metadata": {},
   "source": [
    "Q.1 Write a program whether the given list of number is lucky.  a lucky list contains at least one number is divisible by 7.\n"
   ]
  },
  {
   "cell_type": "code",
   "execution_count": 5,
   "id": "fe0502f5",
   "metadata": {},
   "outputs": [
    {
     "name": "stdout",
     "output_type": "stream",
     "text": [
      "enter the numbers3 56 78\n",
      "3 : try next time!!(Not lucky)\n",
      "56 : Lucky Number\n",
      "78 : try next time!!(Not lucky)\n"
     ]
    }
   ],
   "source": [
    "list=input(\"enter the numbers\").split(\" \")\n",
    "for i in list:\n",
    "    i=int(i)\n",
    "    if i%7==0:\n",
    "        print(i,\":\",\"Lucky Number\")\n",
    "    else:\n",
    "        print(i,\":\",\"try next time!!(Not lucky)\")"
   ]
  },
  {
   "cell_type": "markdown",
   "id": "e35b3786",
   "metadata": {},
   "source": [
    "Q.2 Write a program to sum of all numbers from 1 to given number.\n"
   ]
  },
  {
   "cell_type": "code",
   "execution_count": 9,
   "id": "b346d9f0",
   "metadata": {},
   "outputs": [
    {
     "name": "stdout",
     "output_type": "stream",
     "text": [
      "enter the range:15\n",
      "sum of first 15 is 120\n"
     ]
    }
   ],
   "source": [
    "l=int(input(\"enter the range:\"))\n",
    "sum=0\n",
    "for i in range(1,l+1):\n",
    "    sum=sum+i\n",
    "print(\"sum of first\",l,\"is\",sum)\n",
    "    \n",
    "    "
   ]
  },
  {
   "cell_type": "markdown",
   "id": "66f95c80",
   "metadata": {},
   "source": [
    "Q.3 Write a program to check whether the given number id armstrong or not\n",
    "Armstrong number is a number that is equal to the sum of cubes of its digits. For example 0, 1, 153, 370, 371 and 407 are the Armstrong numbers.\n"
   ]
  },
  {
   "cell_type": "code",
   "execution_count": 15,
   "id": "d4fe8c27",
   "metadata": {},
   "outputs": [
    {
     "name": "stdout",
     "output_type": "stream",
     "text": [
      "Enter the number:153\n",
      "sum is: 27\n",
      "27 153\n",
      "not armstrong\n",
      "sum is: 152\n",
      "152 153\n",
      "not armstrong\n",
      "sum is: 153\n",
      "153 153\n",
      "not armstrong\n"
     ]
    }
   ],
   "source": [
    "num=int(input(\"Enter the number :\"))\n",
    "temp=num\n",
    "sum=0\n",
    "while(num!=0):\n",
    "    r=num%10\n",
    "    num=num//10\n",
    "    sum=sum+r**3\n",
    "print(\"sum is:\",sum)\n",
    "if(sum==temp):\n",
    "    print(\"The no is armstrong:\",sum)\n",
    "else:\n",
    "    print(\"not armstrong\")\n",
    "                "
   ]
  },
  {
   "cell_type": "markdown",
   "id": "b73be270",
   "metadata": {},
   "source": [
    "Q4. Write a program to print the following using while loop   \n",
    "a. First 10 Even numbers   \n",
    "b. First 10 Odd numbers   \n",
    "c. First 10 Natural numbers   \n",
    "d. First 10 Whole numbers   \n"
   ]
  },
  {
   "cell_type": "code",
   "execution_count": 1,
   "id": "adc65569",
   "metadata": {},
   "outputs": [
    {
     "name": "stdout",
     "output_type": "stream",
     "text": [
      "Enter the number :20\n",
      "First ten odd no is:\n",
      "1\n",
      "3\n",
      "5\n",
      "7\n",
      "9\n",
      "11\n",
      "13\n",
      "15\n",
      "17\n",
      "19\n"
     ]
    }
   ],
   "source": [
    "#Q-4a\n",
    "i=1\n",
    "num=int(input(\"Enter the number :\"))\n",
    "print(\"First ten odd no is:\")\n",
    "while(i<=num):\n",
    "    if i%2!=0:\n",
    "        print(i)\n",
    "    i+=1"
   ]
  },
  {
   "cell_type": "code",
   "execution_count": 4,
   "id": "fa3150dd",
   "metadata": {},
   "outputs": [
    {
     "name": "stdout",
     "output_type": "stream",
     "text": [
      "First ten even no is:\n",
      "0\n",
      "2\n",
      "4\n",
      "6\n",
      "8\n",
      "10\n",
      "12\n",
      "14\n",
      "16\n",
      "18\n",
      "20\n"
     ]
    }
   ],
   "source": [
    "#Q-4b\n",
    "i=0\n",
    "print(\"First ten even no is:\")\n",
    "while(i<21):\n",
    "    if i%2==0:\n",
    "        print(i)\n",
    "    i+=1\n"
   ]
  },
  {
   "cell_type": "code",
   "execution_count": 44,
   "id": "a976d904",
   "metadata": {},
   "outputs": [
    {
     "name": "stdout",
     "output_type": "stream",
     "text": [
      "first ten natural no\n",
      "1\n",
      "2\n",
      "3\n",
      "4\n",
      "5\n",
      "6\n",
      "7\n",
      "8\n",
      "9\n",
      "10\n"
     ]
    }
   ],
   "source": [
    "#Q-4c\n",
    "i=1\n",
    "print(\"first ten natural no\")\n",
    "while(i<11):\n",
    "    print(i)\n",
    "    i+=1"
   ]
  },
  {
   "cell_type": "code",
   "execution_count": 45,
   "id": "d371a138",
   "metadata": {},
   "outputs": [
    {
     "name": "stdout",
     "output_type": "stream",
     "text": [
      "first ten whole no\n",
      "0\n",
      "1\n",
      "2\n",
      "3\n",
      "4\n",
      "5\n",
      "6\n",
      "7\n",
      "8\n",
      "9\n",
      "10\n"
     ]
    }
   ],
   "source": [
    "#Q-4d\n",
    "i=0\n",
    "print(\"first ten whole no\")\n",
    "while(i<11):\n",
    "    print(i)\n",
    "    i+=1"
   ]
  },
  {
   "cell_type": "markdown",
   "id": "621b58bb",
   "metadata": {},
   "source": [
    "Q5. Write a program to print first 10 integers and their squares using while loop.   \n",
    "1 1   \n",
    "2 4   \n",
    "3 9 and so on   \n"
   ]
  },
  {
   "cell_type": "code",
   "execution_count": 47,
   "id": "005fb111",
   "metadata": {},
   "outputs": [
    {
     "name": "stdout",
     "output_type": "stream",
     "text": [
      "square of first ten integers\n",
      "1 :Square of 1 is 1\n",
      "2 :Square of 2 is 4\n",
      "3 :Square of 3 is 9\n",
      "4 :Square of 4 is 16\n",
      "5 :Square of 5 is 25\n",
      "6 :Square of 6 is 36\n",
      "7 :Square of 7 is 49\n",
      "8 :Square of 8 is 64\n",
      "9 :Square of 9 is 81\n",
      "10 :Square of 10 is 100\n"
     ]
    }
   ],
   "source": [
    "#Q-5\n",
    "i=1\n",
    "print(\"square of first ten integers\")\n",
    "while(i<11):\n",
    "    print(i,\":\"\"Square of\",i,\"is\",i**2)\n",
    "    i+=1"
   ]
  },
  {
   "cell_type": "markdown",
   "id": "588567b7",
   "metadata": {},
   "source": [
    "\n",
    "Q6. Write for loop statement to print the following series:   \n",
    "10\n",
    "20\n",
    "30 \n",
    ".\n",
    ".\n",
    ".\n",
    " 300   \n"
   ]
  },
  {
   "cell_type": "code",
   "execution_count": 50,
   "id": "ddaaffc2",
   "metadata": {},
   "outputs": [
    {
     "name": "stdout",
     "output_type": "stream",
     "text": [
      "Enter the range:10 300\n",
      "10\n",
      "20\n",
      "30\n",
      "40\n",
      "50\n",
      "60\n",
      "70\n",
      "80\n",
      "90\n",
      "100\n",
      "110\n",
      "120\n",
      "130\n",
      "140\n",
      "150\n",
      "160\n",
      "170\n",
      "180\n",
      "190\n",
      "200\n",
      "210\n",
      "220\n",
      "230\n",
      "240\n",
      "250\n",
      "260\n",
      "270\n",
      "280\n",
      "290\n",
      "300\n"
     ]
    }
   ],
   "source": [
    "#Q-6\n",
    "'''for i in range(10,301,10):\n",
    "    print(i)'''\n",
    "    #OR\n",
    "start,end=input(\"Enter the range:\").split(\" \")\n",
    "start=int(start)\n",
    "end=int(end)\n",
    "for i in range(start,end+1,10):\n",
    "    print(i)\n"
   ]
  },
  {
   "cell_type": "markdown",
   "id": "eb6df7ab",
   "metadata": {},
   "source": [
    "Q7. Write a while loop statement to print the following series   \n",
    "105\n",
    "98\n",
    "91 \n",
    ".\n",
    ".\n",
    ".\n",
    ".\n",
    "7\n"
   ]
  },
  {
   "cell_type": "code",
   "execution_count": 62,
   "id": "46db558a",
   "metadata": {},
   "outputs": [
    {
     "name": "stdout",
     "output_type": "stream",
     "text": [
      "105\n",
      "98\n",
      "91\n",
      "84\n",
      "77\n",
      "70\n",
      "63\n",
      "56\n",
      "49\n",
      "42\n",
      "35\n",
      "28\n",
      "21\n",
      "14\n",
      "7\n"
     ]
    }
   ],
   "source": [
    "#Q-7\n",
    "i=105\n",
    "while(i>=7):\n",
    "    print(i)\n",
    "    i-=7\n",
    "        "
   ]
  },
  {
   "cell_type": "markdown",
   "id": "b80e5e85",
   "metadata": {},
   "source": [
    "\n",
    "Q8. Write a program to enter the numbers till the user wants and at the end it should display the sum of all the numbers entered.   \n"
   ]
  },
  {
   "cell_type": "code",
   "execution_count": 21,
   "id": "aeefc8fb",
   "metadata": {},
   "outputs": [
    {
     "name": "stdout",
     "output_type": "stream",
     "text": [
      "enter the number2\n",
      "u wish to enter the number more press 1 for yes and 0 for no: 1\n",
      "enter the number34\n",
      "u wish to enter the number more press 1 for yes and 0 for no: 8\n",
      "invalid choice\n",
      "sum of all the no is: 36\n"
     ]
    }
   ],
   "source": [
    "#Q-8\n",
    "sum=0\n",
    "while(1):\n",
    "    num=int(input(\"enter the number\"))\n",
    "    sum=sum+num\n",
    "    choice=input(\"u wish to enter the number more press 1 for yes and 0 for no: \")\n",
    "    if choice==\"1\":\n",
    "        continue\n",
    "    elif choice==\"0\":\n",
    "        break\n",
    "    else:\n",
    "        print(\"invalid choice\")\n",
    "        break\n",
    "print(\"sum of all the no is:\",sum)\n"
   ]
  },
  {
   "cell_type": "markdown",
   "id": "c69b14ec",
   "metadata": {},
   "source": [
    "Q9. Write a program to enter the numbers till the user enter ZERO and at the end it should display the count and sum of positive  , negative numbers  entered.   \n"
   ]
  },
  {
   "cell_type": "code",
   "execution_count": 26,
   "id": "3ed4e3db",
   "metadata": {},
   "outputs": [
    {
     "name": "stdout",
     "output_type": "stream",
     "text": [
      "enter the number:34\n",
      "u wish to enter more number press any no for yes and 0 for no3\n",
      "enter the number:35\n",
      "u wish to enter more number press any no for yes and 0 for no4\n",
      "enter the number:-56\n",
      "u wish to enter more number press any no for yes and 0 for no2\n",
      "enter the number:45\n",
      "u wish to enter more number press any no for yes and 0 for no4\n",
      "enter the number:-89\n",
      "u wish to enter more number press any no for yes and 0 for no4\n",
      "enter the number:2\n",
      "u wish to enter more number press any no for yes and 0 for no9\n",
      "enter the number:-89\n",
      "u wish to enter more number press any no for yes and 0 for no0\n",
      "Total no entered 7\n",
      "sum of positive no is: 116\n",
      "sum of negative no is: -234\n"
     ]
    }
   ],
   "source": [
    "#Q-9\n",
    "count=0\n",
    "sum1=0\n",
    "sum2=0\n",
    "while(1):\n",
    "    num=int(input(\"enter the number:\"))\n",
    "    count+=1\n",
    "    if num>=0:\n",
    "        sum1+=num\n",
    "    elif num<0:\n",
    "        sum2+=num\n",
    "    choice=input(\"u wish to enter more number press any no for yes and 0 for no\")\n",
    "    if choice==\"0\":\n",
    "        break\n",
    "    else:\n",
    "        continue\n",
    "print(\"Total no entered\",count)\n",
    "print(\"sum of positive no is:\",sum1)\n",
    "print(\"sum of negative no is:\",sum2)"
   ]
  },
  {
   "cell_type": "markdown",
   "id": "ca0efc13",
   "metadata": {},
   "source": [
    " Q10. Write a program to display all the numbers which are divisible by 13 but not by 3 between 100 and 500.(exclusive both numbers)"
   ]
  },
  {
   "cell_type": "code",
   "execution_count": 28,
   "id": "491e718d",
   "metadata": {},
   "outputs": [
    {
     "name": "stdout",
     "output_type": "stream",
     "text": [
      "The numbers divisible by 13 not by 3 are:\n",
      "104\n",
      "130\n",
      "143\n",
      "169\n",
      "182\n",
      "208\n",
      "221\n",
      "247\n",
      "260\n",
      "286\n",
      "299\n",
      "325\n",
      "338\n",
      "364\n",
      "377\n",
      "403\n",
      "416\n",
      "442\n",
      "455\n",
      "481\n",
      "494\n"
     ]
    }
   ],
   "source": [
    "#Q-10\n",
    "print(\"The numbers divisible by 13 not by 3 are:\")\n",
    "for i in range(101,500):\n",
    "    if i%13==0 and i%3!=0:\n",
    "        print(i)\n",
    "        "
   ]
  },
  {
   "cell_type": "markdown",
   "id": "29b4b473",
   "metadata": {},
   "source": [
    "Q11. Write a program to accept 10 numbers from the user and display the largest & smallest number number.\n",
    "#will do later"
   ]
  },
  {
   "cell_type": "markdown",
   "id": "6a9f44d5",
   "metadata": {},
   "source": [
    "Q12. Write a program to print the following series till n terms.   \n",
    "1\n",
    " 4\n",
    " 9\n",
    " 16\n",
    " 25\n",
    " .\n",
    ".\n",
    ".\n",
    "\n",
    " n terms.\n"
   ]
  },
  {
   "cell_type": "code",
   "execution_count": 39,
   "id": "88e221f5",
   "metadata": {},
   "outputs": [
    {
     "name": "stdout",
     "output_type": "stream",
     "text": [
      "enter the no of rows: 20\n",
      "1\n",
      "4\n",
      "9\n",
      "16\n",
      "25\n",
      "36\n",
      "49\n",
      "64\n",
      "81\n",
      "100\n",
      "121\n",
      "144\n",
      "169\n",
      "196\n",
      "225\n",
      "256\n",
      "289\n",
      "324\n",
      "361\n",
      "400\n"
     ]
    }
   ],
   "source": [
    "#Q-12\n",
    "row=int(input(\"enter the no of rows: \"))\n",
    "k=1\n",
    "for i in range(1,row+1):\n",
    "    for j in range(1):\n",
    "        print(k*k,end=\"\")\n",
    "    k=k+1\n",
    "    print(end=\"\\n\")"
   ]
  },
  {
   "cell_type": "markdown",
   "id": "b4b0baf0",
   "metadata": {},
   "source": [
    "Q. 13 Wap to take username and password from user and save it and then allow the user to sign  if he/she is authenticate user then sign happens else no . an give 5 attempts after 5 attempts if he doe not give right crenditials. then display tried next time"
   ]
  },
  {
   "cell_type": "code",
   "execution_count": 8,
   "id": "09686c94",
   "metadata": {},
   "outputs": [
    {
     "name": "stdout",
     "output_type": "stream",
     "text": [
      "Enter username and password to sign in\n",
      "Enter username: ee\n",
      "Enter password: ee\n",
      "Access denied!! Try next time.\n",
      "Enter username: rupanshi_rana\n",
      "Enter password: Hello35\n",
      "authenticate user,Access granted\n"
     ]
    }
   ],
   "source": [
    "#Q-13\n",
    "print('Enter username and password to sign in')\n",
    "count=0\n",
    "while count<5:\n",
    "    username=input('Enter username: ')\n",
    "    password=input('Enter password: ')\n",
    "    if password=='Hello35' and username=='rupanshi_rana':\n",
    "        print('authenticate user,Access granted')\n",
    "        break\n",
    "    elif count<5:\n",
    "        print('Access denied!! Try next time.')\n",
    "        count+=1\n",
    "else:\n",
    "    print(\"No more attemps!\")"
   ]
  },
  {
   "cell_type": "markdown",
   "id": "1c0ef5d6",
   "metadata": {},
   "source": [
    "Q.14  Write a program which will find all such numbers which are divisible by 7 but are not a multiple of 5, between 2000 and 3200 (both included). The numbers obtained should be printed in a comma-separated sequence on a single line.\n"
   ]
  },
  {
   "cell_type": "code",
   "execution_count": 12,
   "id": "ca0b5f8e",
   "metadata": {},
   "outputs": [
    {
     "name": "stdout",
     "output_type": "stream",
     "text": [
      "The numbers that are div by 7 and not a multiple of 5 are:\n",
      "2002,2009,2016,2023,2037,2044,2051,2058,2072,2079,2086,2093,2107,2114,2121,2128,2142,2149,2156,2163,2177,2184,2191,2198,2212,2219,2226,2233,2247,2254,2261,2268,2282,2289,2296,2303,2317,2324,2331,2338,2352,2359,2366,2373,2387,2394,2401,2408,2422,2429,2436,2443,2457,2464,2471,2478,2492,2499,2506,2513,2527,2534,2541,2548,2562,2569,2576,2583,2597,2604,2611,2618,2632,2639,2646,2653,2667,2674,2681,2688,2702,2709,2716,2723,2737,2744,2751,2758,2772,2779,2786,2793,2807,2814,2821,2828,2842,2849,2856,2863,2877,2884,2891,2898,2912,2919,2926,2933,2947,2954,2961,2968,2982,2989,2996,3003,3017,3024,3031,3038,3052,3059,3066,3073,3087,3094,3101,3108,3122,3129,3136,3143,3157,3164,3171,3178,3192,3199,"
     ]
    }
   ],
   "source": [
    "#Q-14 \n",
    "print(\"The numbers that are div by 7 and not a multiple of 5 are:\")\n",
    "for i in range(2000,3201):\n",
    "    if i%7==0 and i%5!=0:\n",
    "        print(i,end=\",\")\n",
    "        \n",
    "    "
   ]
  },
  {
   "cell_type": "markdown",
   "id": "b83282a0",
   "metadata": {},
   "source": [
    "Q. 15 Write a program which accepts a sequence of comma separated 4 digit binary numbers as its input and then check whether they are divisible by 5 or not. The numbers that are divisible by 5 are to be printed in a comma separated sequence.\n"
   ]
  },
  {
   "cell_type": "code",
   "execution_count": 22,
   "id": "9912ba7c",
   "metadata": {},
   "outputs": [
    {
     "name": "stdout",
     "output_type": "stream",
     "text": [
      "enter the 4 digits binary numbers:1100,0000,1111,1010,0011\n",
      "Binary number is:\n",
      "1100,Binary number is:\n",
      "0,not a binary number: 1111\n",
      "Binary number is:\n",
      "1010,not a binary number: 11\n"
     ]
    }
   ],
   "source": [
    "#Q-15\n",
    "sequence=input(\"enter the 4 digits binary numbers:\").split(\",\")\n",
    "for i in sequence:\n",
    "    i=int(i)\n",
    "    if i%5==0:\n",
    "        print(\"Binary number is:\")\n",
    "        print(i,end=\",\")\n",
    "    else:\n",
    "        print(\"not a binary number:\",i)"
   ]
  },
  {
   "cell_type": "markdown",
   "id": "5ac6da1a",
   "metadata": {},
   "source": [
    "Q.1 6 Write a program, which will find all such numbers between 1000 and 3000 (both included) such that each digit of the number is an even number.¶\n"
   ]
  },
  {
   "cell_type": "code",
   "execution_count": 2,
   "id": "2718a4c9",
   "metadata": {},
   "outputs": [
    {
     "name": "stdout",
     "output_type": "stream",
     "text": [
      "2000,2002,2004,2006,2008,2020,2022,2024,2026,2028,2040,2042,2044,2046,2048,2060,2062,2064,2066,2068,2080,2082,2084,2086,2088,2200,2202,2204,2206,2208,2220,2222,2224,2226,2228,2240,2242,2244,2246,2248,2260,2262,2264,2266,2268,2280,2282,2284,2286,2288,2400,2402,2404,2406,2408,2420,2422,2424,2426,2428,2440,2442,2444,2446,2448,2460,2462,2464,2466,2468,2480,2482,2484,2486,2488,2600,2602,2604,2606,2608,2620,2622,2624,2626,2628,2640,2642,2644,2646,2648,2660,2662,2664,2666,2668,2680,2682,2684,2686,2688,2800,2802,2804,2806,2808,2820,2822,2824,2826,2828,2840,2842,2844,2846,2848,2860,2862,2864,2866,2868,2880,2882,2884,2886,2888,"
     ]
    }
   ],
   "source": [
    "#Q-16\n",
    "for i in range(1000,3001):\n",
    "    count=0\n",
    "    i=str(i)\n",
    "    for ch in i:\n",
    "        ch=int(ch)\n",
    "        if ch%2==0:\n",
    "            count=count+1\n",
    "    if count==4:  #all are four digit numbers\n",
    "        print(i,end=\",\")\n"
   ]
  },
  {
   "cell_type": "markdown",
   "id": "8346fd85",
   "metadata": {},
   "source": [
    "Q .17Consider you have your own restaurant : three item choices  is there :\n",
    "1: pizza\n",
    "2:  burger\n",
    "3:  hotdog\n",
    "toppings available for pizza: paneer, mushrooms, and capsicum\n",
    "fillings avialable for burger and hot dog is  single layer cheeze and double layer cheese\n",
    "and side order menu is softdrinks\n",
    "WAP TO CALCULATE THE COST OF ITEM which user ordered BASED ON THE MENU OF RESTAURANT'''\n"
   ]
  },
  {
   "cell_type": "code",
   "execution_count": null,
   "id": "f6cb9367",
   "metadata": {},
   "outputs": [
    {
     "name": "stdout",
     "output_type": "stream",
     "text": [
      "Welcome to Taj Restaurant:\n",
      "Menu:\n",
      "1: Pizza and price of pizza is 222\n",
      "2: Burger and price of burger is 88\n",
      "3: Hotdog and price of hotdog is 111\n",
      "4: Side order menu\n",
      "enter your choice:1\n",
      "Toppings available are: paneer(Rs.100), mushrooms(Rs.80), and capsicum(Rs.60)\n",
      "enter the name of toppingPaneer\n",
      "Paneer pizza cost is: 292\n",
      "enter your choice:3\n",
      "fillings avialable for hot dog are single layer cheese(Rs.50) and double layer cheese(Rs.70)\n",
      "enter the choice of cheese:single layer cheese\n",
      "single layer cheese hotdog cost is: 161\n"
     ]
    }
   ],
   "source": [
    "#Q-17\n",
    "print(\"Welcome to Taj Restaurant:\")\n",
    "print(\"Menu:\")\n",
    "print(\"1: Pizza and price of pizza is 222\")\n",
    "print(\"2: Burger and price of burger is 88\")\n",
    "print(\"3: Hotdog and price of hotdog is 111\")\n",
    "print(\"4: Side order menu\")\n",
    "while(1):\n",
    "    choice=int(input(\"enter your choice:\"))\n",
    "    cost=0\n",
    "    if choice==1:\n",
    "        print(\"Toppings available are: paneer(Rs.100), mushrooms(Rs.80), and capsicum(Rs.60)\")\n",
    "        toppings=input(\"enter the name of topping\")\n",
    "        if(toppings==\"Paneer\"):\n",
    "            cost=222+70\n",
    "            print(\"Paneer pizza cost is:\",cost)\n",
    "        elif(toppings==\"Mushrooms\"):\n",
    "            cost=222+80\n",
    "            print(\"Mushroom pizza cost is:\",cost)\n",
    "        elif(toppings==\"capsicum\"):\n",
    "            cost=222+60\n",
    "            print(\"capsicum pizza cost is:\",cost)\n",
    "        else:\n",
    "            print(\"topping not available!!\")\n",
    "    elif choice==2:\n",
    "        print(\"fillings avialable for burger are single layer cheese(Rs.50) and double layer cheese(Rs.70)\")\n",
    "        cheese=input(\"enter the choice of cheese:\")\n",
    "        if(cheese==\"single layer cheese\"):\n",
    "            cost=88+50\n",
    "            print(\"single layer cheese burger cost is:\",cost)\n",
    "        elif(cheese==\"double layer cheese\"):\n",
    "            cost=88+70\n",
    "            print(\"double layer cheese burger cost is:\",cost)\n",
    "        else:\n",
    "            print(\"Not available\")\n",
    "    elif choice==3:\n",
    "        print(\"fillings avialable for hot dog are single layer cheese(Rs.50) and double layer cheese(Rs.70)\")\n",
    "        choicee=input(\"enter the choice of cheese:\")\n",
    "        if(choicee==\"single layer cheese\"):\n",
    "            cost=111+50\n",
    "            print(\"single layer cheese hotdog cost is:\",cost)\n",
    "        elif(choiceee==\"double layer cheese\"):\n",
    "            cost=111+70\n",
    "            print(\"double layer cheese hotdog cost is:\",cost)\n",
    "        else:\n",
    "            print(\"Not available\")\n",
    "    elif choice==4:\n",
    "        print(\"in side order menu we offer softdrinks:coke(Rs.50)and fanta(Rs.55), do you wish to add any\")\n",
    "        softdrinks=input(\"enter your choice for softdrinks:\")\n",
    "        if(softdrinks==\"Coke\"):\n",
    "            totalcost=cost+50\n",
    "            print(\"Total cost would be\",totalcost)\n",
    "        elif(softdrinks==\"Fanta\"):\n",
    "            totalcost=cost+55\n",
    "            print(\"Total cost would be\",totalcost)\n",
    "        else:\n",
    "            print(\"not available\")\n",
    "    else:\n",
    "        print(\"enter valid chice\")\n",
    "        \n",
    "    \n",
    "    \n",
    "    \n",
    "    \n"
   ]
  },
  {
   "cell_type": "code",
   "execution_count": null,
   "id": "9bbcb562",
   "metadata": {},
   "outputs": [],
   "source": []
  }
 ],
 "metadata": {
  "kernelspec": {
   "display_name": "Python 3 (ipykernel)",
   "language": "python",
   "name": "python3"
  },
  "language_info": {
   "codemirror_mode": {
    "name": "ipython",
    "version": 3
   },
   "file_extension": ".py",
   "mimetype": "text/x-python",
   "name": "python",
   "nbconvert_exporter": "python",
   "pygments_lexer": "ipython3",
   "version": "3.9.12"
  }
 },
 "nbformat": 4,
 "nbformat_minor": 5
}
