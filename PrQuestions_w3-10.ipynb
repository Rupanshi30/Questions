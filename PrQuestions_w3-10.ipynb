{
 "cells": [
  {
   "cell_type": "markdown",
   "id": "d356c96a",
   "metadata": {},
   "source": [
    "Write a Python program to hash a word."
   ]
  },
  {
   "cell_type": "code",
   "execution_count": 1,
   "id": "56d8cf80",
   "metadata": {},
   "outputs": [
    {
     "name": "stdout",
     "output_type": "stream",
     "text": [
      "Input the word be hashed: carbon\n",
      "\n",
      "The coded word is: C02255\n",
      "\n"
     ]
    }
   ],
   "source": [
    "soundex=[0,1,2,3,0,1,2,0,0,2,2,4,5,5,0,1,2,6,2,3,0,1,0,2,0,2]\n",
    " \n",
    "word=input(\"Input the word be hashed: \")\n",
    " \n",
    "word=word.upper()\n",
    " \n",
    "coded=word[0]\n",
    " \n",
    "for a in word[1:len(word)]:\n",
    "    i=65-ord(a)\n",
    "    coded=coded+str(soundex[i])\n",
    "print() \n",
    "print(\"The coded word is: \"+coded)\n",
    "print()\n"
   ]
  },
  {
   "cell_type": "markdown",
   "id": "844acfc0",
   "metadata": {},
   "source": [
    "Write a Python program to get the copyright information and write Copyright information in Python code."
   ]
  },
  {
   "cell_type": "code",
   "execution_count": 2,
   "id": "bd297c72",
   "metadata": {},
   "outputs": [
    {
     "name": "stdout",
     "output_type": "stream",
     "text": [
      "\n",
      "Python Copyright Information\n",
      "Copyright (c) 2001-2022 Python Software Foundation.\n",
      "All Rights Reserved.\n",
      "\n",
      "Copyright (c) 2000 BeOpen.com.\n",
      "All Rights Reserved.\n",
      "\n",
      "Copyright (c) 1995-2001 Corporation for National Research Initiatives.\n",
      "All Rights Reserved.\n",
      "\n",
      "Copyright (c) 1991-1995 Stichting Mathematisch Centrum, Amsterdam.\n",
      "All Rights Reserved.\n",
      "\n"
     ]
    }
   ],
   "source": [
    "import sys\n",
    "print(\"\\nPython Copyright Information\")\n",
    "print(sys.copyright)\n",
    "print()"
   ]
  },
  {
   "cell_type": "markdown",
   "id": "0052a68d",
   "metadata": {},
   "source": [
    "Write a Python program to get the command-line arguments (name of the script, the number of arguments, arguments) passed to a script."
   ]
  },
  {
   "cell_type": "code",
   "execution_count": 3,
   "id": "6e4b06b2",
   "metadata": {},
   "outputs": [
    {
     "name": "stdout",
     "output_type": "stream",
     "text": [
      "This is the name/path of the script:\n",
      "Number of arguments: 3\n",
      "Argument List: ['C:\\\\Users\\\\rupan\\\\anaconda3\\\\lib\\\\site-packages\\\\ipykernel_launcher.py', '-f', 'C:\\\\Users\\\\rupan\\\\AppData\\\\Roaming\\\\jupyter\\\\runtime\\\\kernel-3195d6bc-59e3-4ba7-99b3-59a9782d8d47.json']\n"
     ]
    }
   ],
   "source": [
    "import sys\n",
    "print(\"This is the name/path of the script:\"),sys.argv[0]\n",
    "print(\"Number of arguments:\",len(sys.argv))\n",
    "print(\"Argument List:\",str(sys.argv))"
   ]
  },
  {
   "cell_type": "markdown",
   "id": "dce0c2f1",
   "metadata": {},
   "source": [
    "Write a Python program to test whether the system is a big-endian platform or little-endian platform.\n",
    "\n",
    "sys.byteorder: An indicator of the native byte order. This will have the value 'big' on big-endian (most-significant byte first) platforms, and 'little' on little-endian (least-significant byte first) platforms."
   ]
  },
  {
   "cell_type": "code",
   "execution_count": 4,
   "id": "e992ebe2",
   "metadata": {},
   "outputs": [
    {
     "name": "stdout",
     "output_type": "stream",
     "text": [
      "\n",
      "Little-endian platform.\n",
      "\n"
     ]
    }
   ],
   "source": [
    "import sys\n",
    "print()\n",
    "if sys.byteorder == \"little\":\n",
    "    #intel, alpha\n",
    "    print(\"Little-endian platform.\")\n",
    "else:\n",
    "    #motorola, sparc\n",
    "    print(\"Big-endian platform.\")\n",
    "print()\n"
   ]
  },
  {
   "cell_type": "code",
   "execution_count": null,
   "id": "cb4aa387",
   "metadata": {},
   "outputs": [],
   "source": []
  }
 ],
 "metadata": {
  "kernelspec": {
   "display_name": "Python 3 (ipykernel)",
   "language": "python",
   "name": "python3"
  },
  "language_info": {
   "codemirror_mode": {
    "name": "ipython",
    "version": 3
   },
   "file_extension": ".py",
   "mimetype": "text/x-python",
   "name": "python",
   "nbconvert_exporter": "python",
   "pygments_lexer": "ipython3",
   "version": "3.9.12"
  }
 },
 "nbformat": 4,
 "nbformat_minor": 5
}
