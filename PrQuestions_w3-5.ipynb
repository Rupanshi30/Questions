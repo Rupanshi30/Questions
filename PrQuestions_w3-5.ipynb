

{
 "cells": [
  {
   "cell_type": "markdown",
   "id": "167c78ca",
   "metadata": {},
   "source": [
    "Write a Python program which will return true if the two given integer values are equal or their sum or difference is 5."
   ]
  },
  {
   "cell_type": "code",
   "execution_count": 34,
   "id": "b5c71120",
   "metadata": {},
   "outputs": [
    {
     "name": "stdout",
     "output_type": "stream",
     "text": [
      "True\n",
      "True\n",
      "True\n",
      "False\n",
      "False\n"
     ]
    }
   ],
   "source": [
    "def test_number5(x, y):\n",
    "    if x == y or abs(x-y) == 5 or (x+y) == 5:\n",
    "        return True\n",
    "    else:\n",
    "        return False\n",
    "print(test_number5(7, 2))\n",
    "print(test_number5(3, 2))\n",
    "print(test_number5(2, 2))\n",
    "print(test_number5(7, 3))\n",
    "print(test_number5(27, 53))\n"
   ]
  },
  {
   "cell_type": "markdown",
   "id": "a397ed4e",
   "metadata": {},
   "source": [
    "Write a Python program to add two objects if both objects are an integer type."
   ]
  },
  {
   "cell_type": "code",
   "execution_count": 35,
   "id": "94265159",
   "metadata": {},
   "outputs": [
    {
     "name": "stdout",
     "output_type": "stream",
     "text": [
      "30\n",
      "Inputs must be integers!\n",
      "Inputs must be integers!\n",
      "Inputs must be integers!\n"
     ]
    }
   ],
   "source": [
    "def add_numbers(a, b):\n",
    "    if not (isinstance(a, int) and isinstance(b, int)):\n",
    "        return \"Inputs must be integers!\"\n",
    "    return a + b\n",
    "print(add_numbers(10, 20))\n",
    "print(add_numbers(10, 20.23))\n",
    "print(add_numbers('5', 6))\n",
    "print(add_numbers('5', '6'))\n"
   ]
  },
  {
   "cell_type": "markdown",
   "id": "f69f86da",
   "metadata": {},
   "source": [
    "Write a Python program to display your details like name, age, address in three different lines. "
   ]
  },
  {
   "cell_type": "code",
   "execution_count": 36,
   "id": "a9881e7d",
   "metadata": {},
   "outputs": [
    {
     "name": "stdout",
     "output_type": "stream",
     "text": [
      "Name: Rupanshi\n",
      "Age: 21\n",
      "Address: Rohini, Delhi, India\n"
     ]
    }
   ],
   "source": [
    "def personal_details():\n",
    "    name, age = \"Rupanshi\", 21\n",
    "    address = \"Rohini, Delhi, India\"\n",
    "    print(\"Name: {}\\nAge: {}\\nAddress: {}\".format(name, age, address))\n",
    "\n",
    "personal_details()\n"
   ]
  },
  {
   "cell_type": "markdown",
   "id": "72727d77",
   "metadata": {},
   "source": [
    "Write a Python program to solve (x + y) * (x + y).\n",
    "\n",
    "Test Data : x = 4, y = 3\n",
    "\n",
    "Expected Output : (4 + 3) ^ 2) = 49"
   ]
  },
  {
   "cell_type": "code",
   "execution_count": 37,
   "id": "4ab1dad4",
   "metadata": {},
   "outputs": [
    {
     "name": "stdout",
     "output_type": "stream",
     "text": [
      "(4 + 3) ^ 2) = 49\n"
     ]
    }
   ],
   "source": [
    "x, y = 4, 3\n",
    "result = x * x + 2 * x * y + y * y\n",
    "print(\"({} + {}) ^ 2) = {}\".format(x, y, result))"
   ]
  },
  {
   "cell_type": "markdown",
   "id": "9309ee23",
   "metadata": {},
   "source": [
    "Write a Python program to compute the future value of a specified principal amount, rate of interest, and a number of years.\n",
    "\n",
    "The formula for future value with compound interest is FV = P(1 + r/n)^nt.\n",
    "\n",
    "FV = the future value;\n",
    "\n",
    "P = the principal;\n",
    "\n",
    "r = the annual interest rate expressed as a decimal;\n",
    "\n",
    "n = the number of times interest is paid each year;\n",
    "\n",
    "t = time in years.\n",
    "\n",
    "Test Data : amt = 10000, int = 3.5, years = 7\n",
    "\n",
    "Expected Output : 12722.79"
   ]
  },
  {
   "cell_type": "code",
   "execution_count": 38,
   "id": "0638110e",
   "metadata": {},
   "outputs": [
    {
     "name": "stdout",
     "output_type": "stream",
     "text": [
      "12722.79\n"
     ]
    }
   ],
   "source": [
    "amt = 10000\n",
    "int = 3.5\n",
    "years = 7\n",
    "future_value = amt*((1+(0.01*int)) ** years)\n",
    "print(round(future_value,2))"
   ]
  },
  {
   "cell_type": "markdown",
   "id": "cd2e724b",
   "metadata": {},
   "source": [
    "Write a Python program to compute the distance between the points (x1, y1) and (x2, y2)."
   ]
  },
  {
   "cell_type": "code",
   "execution_count": 39,
   "id": "0121828d",
   "metadata": {},
   "outputs": [
    {
     "name": "stdout",
     "output_type": "stream",
     "text": [
      "6.324555320336759\n"
     ]
    }
   ],
   "source": [
    "import math\n",
    "p1 = [4, 0]\n",
    "p2 = [6, 6]\n",
    "distance = math.sqrt( ((p1[0]-p2[0])**2)+((p1[1]-p2[1])**2) )\n",
    "\n",
    "print(distance)"
   ]
  },
  {
   "cell_type": "code",
   "execution_count": null,
   "id": "fdc87322",
   "metadata": {},
   "outputs": [],
   "source": []
  }
 ],
 "metadata": {
  "kernelspec": {
   "display_name": "Python 3 (ipykernel)",
   "language": "python",
   "name": "python3"
  },
  "language_info": {
   "codemirror_mode": {
    "name": "ipython",
    "version": 3
   },
   "file_extension": ".py",
   "mimetype": "text/x-python",
   "name": "python",
   "nbconvert_exporter": "python",
   "pygments_lexer": "ipython3",
   "version": "3.9.12"
  }
 },
 "nbformat": 4,
 "nbformat_minor": 5
}
