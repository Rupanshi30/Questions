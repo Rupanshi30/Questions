
{
 "cells": [
  {
   "cell_type": "markdown",
   "id": "c19fb966",
   "metadata": {},
   "source": [
    "Write a Python program to check whether a file exists."
   ]
  },
  {
   "cell_type": "code",
   "execution_count": 34,
   "id": "bf5fae47",
   "metadata": {},
   "outputs": [
    {
     "name": "stdout",
     "output_type": "stream",
     "text": [
      "False\n",
      "False\n"
     ]
    }
   ],
   "source": [
    "import os.path\n",
    "print(os.path.isfile('main.txt'))\n",
    "print(os.path.isfile('tupl.py'))\n"
   ]
  },
  {
   "cell_type": "markdown",
   "id": "81bb87b5",
   "metadata": {},
   "source": [
    "Write a Python program to locate Python site-packages.\n",
    "\n",
    "site.getsitepackages(): Return a list containing all global site-packages directories."
   ]
  },
  {
   "cell_type": "code",
   "execution_count": 35,
   "id": "ba4f5328",
   "metadata": {},
   "outputs": [
    {
     "name": "stdout",
     "output_type": "stream",
     "text": [
      "['C:\\\\Users\\\\rupan\\\\anaconda3', 'C:\\\\Users\\\\rupan\\\\anaconda3\\\\lib\\\\site-packages']\n"
     ]
    }
   ],
   "source": [
    "import site; \n",
    "print(site.getsitepackages())\n"
   ]
  },
  {
   "cell_type": "markdown",
   "id": "322b94e4",
   "metadata": {},
   "source": [
    "Write a Python program to print without newline or space."
   ]
  },
  {
   "cell_type": "code",
   "execution_count": 39,
   "id": "bbcbe61e",
   "metadata": {},
   "outputs": [
    {
     "name": "stdout",
     "output_type": "stream",
     "text": [
      "**********\n",
      "\n"
     ]
    }
   ],
   "source": [
    "for i in range(0, 10):\n",
    "    print('*', end=\"\")\n",
    "print(\"\\n\")"
   ]
  },
  {
   "cell_type": "markdown",
   "id": "1d392b12",
   "metadata": {},
   "source": [
    "Write a Python program to print to stderr."
   ]
  },
  {
   "cell_type": "code",
   "execution_count": 40,
   "id": "5c299137",
   "metadata": {},
   "outputs": [
    {
     "name": "stderr",
     "output_type": "stream",
     "text": [
      "abc--efg--xyz\n"
     ]
    }
   ],
   "source": [
    "from __future__ import print_function\n",
    "import sys\n",
    "\n",
    "def eprint(*args, **kwargs):\n",
    "    print(*args, file=sys.stderr, **kwargs)\n",
    "\n",
    "eprint(\"abc\", \"efg\", \"xyz\", sep=\"--\")\n"
   ]
  },
  {
   "cell_type": "markdown",
   "id": "8bfcb017",
   "metadata": {},
   "source": [
    "Write a python program to access environment variables."
   ]
  },
  {
   "cell_type": "code",
   "execution_count": 41,
   "id": "e440f655",
   "metadata": {},
   "outputs": [
    {
     "name": "stdout",
     "output_type": "stream",
     "text": [
      "ALLUSERSPROFILE\n",
      "---------------\n",
      "C:\\ProgramData\n",
      "==============================\n",
      "APPDATA\n",
      "---------------\n",
      "C:\\Users\\rupan\\AppData\\Roaming\n",
      "==============================\n",
      "COMMONPROGRAMFILES\n",
      "---------------\n",
      "C:\\Program Files\\Common Files\n",
      "==============================\n",
      "COMMONPROGRAMFILES(X86)\n",
      "---------------\n",
      "C:\\Program Files (x86)\\Common Files\n",
      "==============================\n",
      "COMMONPROGRAMW6432\n",
      "---------------\n",
      "C:\\Program Files\\Common Files\n",
      "==============================\n",
      "COMPUTERNAME\n",
      "---------------\n",
      "DESKTOP-P4PG4G7\n",
      "==============================\n",
      "COMSPEC\n",
      "---------------\n",
      "C:\\WINDOWS\\system32\\cmd.exe\n",
      "==============================\n",
      "DRIVERDATA\n",
      "---------------\n",
      "C:\\Windows\\System32\\Drivers\\DriverData\n",
      "==============================\n",
      "FPS_BROWSER_APP_PROFILE_STRING\n",
      "---------------\n",
      "Internet Explorer\n",
      "==============================\n",
      "FPS_BROWSER_USER_PROFILE_STRING\n",
      "---------------\n",
      "Default\n",
      "==============================\n",
      "HOMEDRIVE\n",
      "---------------\n",
      "C:\n",
      "==============================\n",
      "HOMEPATH\n",
      "---------------\n",
      "\\Users\\rupan\n",
      "==============================\n",
      "LOCALAPPDATA\n",
      "---------------\n",
      "C:\\Users\\rupan\\AppData\\Local\n",
      "==============================\n",
      "LOGONSERVER\n",
      "---------------\n",
      "\\\\DESKTOP-P4PG4G7\n",
      "==============================\n",
      "NUMBER_OF_PROCESSORS\n",
      "---------------\n",
      "8\n",
      "==============================\n",
      "ONEDRIVE\n",
      "---------------\n",
      "C:\\Users\\rupan\\OneDrive - stu.aud.ac.in\n",
      "==============================\n",
      "ONEDRIVECOMMERCIAL\n",
      "---------------\n",
      "C:\\Users\\rupan\\OneDrive - stu.aud.ac.in\n",
      "==============================\n",
      "ONEDRIVECONSUMER\n",
      "---------------\n",
      "C:\\Users\\rupan\\OneDrive\n",
      "==============================\n",
      "OS\n",
      "---------------\n",
      "Windows_NT\n",
      "==============================\n",
      "PATH\n",
      "---------------\n",
      "C:\\Users\\rupan\\anaconda3;C:\\Users\\rupan\\anaconda3\\Library\\mingw-w64\\bin;C:\\Users\\rupan\\anaconda3\\Library\\usr\\bin;C:\\Users\\rupan\\anaconda3\\Library\\bin;C:\\Users\\rupan\\anaconda3\\Scripts;C:\\WINDOWS\\system32;C:\\WINDOWS;C:\\WINDOWS\\System32\\Wbem;C:\\WINDOWS\\System32\\WindowsPowerShell\\v1.0\\;C:\\WINDOWS\\System32\\OpenSSH\\;C:\\Program Files\\dotnet\\;C:\\Users\\rupan\\AppData\\Local\\Programs\\Python\\Python310\\Scripts\\;C:\\Users\\rupan\\AppData\\Local\\Programs\\Python\\Python310\\;C:\\Users\\rupan\\AppData\\Local\\Microsoft\\WindowsApps;;C:\\Users\\rupan\\AppData\\Local\\Programs\\Microsoft VS Code\\bin;C:\\Users\\rupan\\AppData\\Local\\Pandoc\\\n",
      "==============================\n",
      "PATHEXT\n",
      "---------------\n",
      ".COM;.EXE;.BAT;.CMD;.VBS;.VBE;.JS;.JSE;.WSF;.WSH;.MSC\n",
      "==============================\n",
      "PROCESSOR_ARCHITECTURE\n",
      "---------------\n",
      "AMD64\n",
      "==============================\n",
      "PROCESSOR_IDENTIFIER\n",
      "---------------\n",
      "Intel64 Family 6 Model 140 Stepping 1, GenuineIntel\n",
      "==============================\n",
      "PROCESSOR_LEVEL\n",
      "---------------\n",
      "6\n",
      "==============================\n",
      "PROCESSOR_REVISION\n",
      "---------------\n",
      "8c01\n",
      "==============================\n",
      "PROGRAMDATA\n",
      "---------------\n",
      "C:\\ProgramData\n",
      "==============================\n",
      "PROGRAMFILES\n",
      "---------------\n",
      "C:\\Program Files\n",
      "==============================\n",
      "PROGRAMFILES(X86)\n",
      "---------------\n",
      "C:\\Program Files (x86)\n",
      "==============================\n",
      "PROGRAMW6432\n",
      "---------------\n",
      "C:\\Program Files\n",
      "==============================\n",
      "PSMODULEPATH\n",
      "---------------\n",
      "C:\\Program Files\\WindowsPowerShell\\Modules;C:\\WINDOWS\\system32\\WindowsPowerShell\\v1.0\\Modules\n",
      "==============================\n",
      "PUBLIC\n",
      "---------------\n",
      "C:\\Users\\Public\n",
      "==============================\n",
      "SESSIONNAME\n",
      "---------------\n",
      "Console\n",
      "==============================\n",
      "SYSTEMDRIVE\n",
      "---------------\n",
      "C:\n",
      "==============================\n",
      "SYSTEMROOT\n",
      "---------------\n",
      "C:\\WINDOWS\n",
      "==============================\n",
      "TEMP\n",
      "---------------\n",
      "C:\\Users\\rupan\\AppData\\Local\\Temp\n",
      "==============================\n",
      "TMP\n",
      "---------------\n",
      "C:\\Users\\rupan\\AppData\\Local\\Temp\n",
      "==============================\n",
      "USERDOMAIN\n",
      "---------------\n",
      "DESKTOP-P4PG4G7\n",
      "==============================\n",
      "USERDOMAIN_ROAMINGPROFILE\n",
      "---------------\n",
      "DESKTOP-P4PG4G7\n",
      "==============================\n",
      "USERNAME\n",
      "---------------\n",
      "rupan\n",
      "==============================\n",
      "USERPROFILE\n",
      "---------------\n",
      "C:\\Users\\rupan\n",
      "==============================\n",
      "WINDIR\n",
      "---------------\n",
      "C:\\WINDOWS\n",
      "==============================\n",
      "ZES_ENABLE_SYSMAN\n",
      "---------------\n",
      "1\n",
      "==============================\n",
      "CONDA_PREFIX\n",
      "---------------\n",
      "C:\\Users\\rupan\\anaconda3\n",
      "==============================\n",
      "PYDEVD_USE_FRAME_EVAL\n",
      "---------------\n",
      "NO\n",
      "==============================\n",
      "JPY_INTERRUPT_EVENT\n",
      "---------------\n",
      "3220\n",
      "==============================\n",
      "IPY_INTERRUPT_EVENT\n",
      "---------------\n",
      "3220\n",
      "==============================\n",
      "JPY_PARENT_PID\n",
      "---------------\n",
      "1184\n",
      "==============================\n",
      "TERM\n",
      "---------------\n",
      "xterm-color\n",
      "==============================\n",
      "CLICOLOR\n",
      "---------------\n",
      "1\n",
      "==============================\n",
      "PAGER\n",
      "---------------\n",
      "cat\n",
      "==============================\n",
      "GIT_PAGER\n",
      "---------------\n",
      "cat\n",
      "==============================\n",
      "MPLBACKEND\n",
      "---------------\n",
      "module://matplotlib_inline.backend_inline\n",
      "==============================\n"
     ]
    }
   ],
   "source": [
    "import os\n",
    "for data in os.environ:\n",
    "   print(data)\n",
    "   print('-'*15)\n",
    "   print(os.environ[data])\n",
    "   print('='*30)"
   ]
  },
  {
   "cell_type": "markdown",
   "id": "e1945c89",
   "metadata": {},
   "source": [
    "Write a Python program to get the current username."
   ]
  },
  {
   "cell_type": "code",
   "execution_count": 42,
   "id": "82d43bdd",
   "metadata": {},
   "outputs": [
    {
     "name": "stdout",
     "output_type": "stream",
     "text": [
      "rupan\n"
     ]
    }
   ],
   "source": [
    "import getpass\n",
    "print(getpass.getuser())"
   ]
  },
  {
   "cell_type": "markdown",
   "id": "b01f4cae",
   "metadata": {},
   "source": [
    "Write a Python to find local IP addresses using Python's stdlib."
   ]
  },
  {
   "cell_type": "code",
   "execution_count": 43,
   "id": "8e05c5b4",
   "metadata": {},
   "outputs": [
    {
     "name": "stdout",
     "output_type": "stream",
     "text": [
      "192.168.1.6\n"
     ]
    }
   ],
   "source": [
    "import socket\n",
    "print([l for l in ([ip for ip in socket.gethostbyname_ex(socket.gethostname())[2] \n",
    "if not ip.startswith(\"127.\")][:1], [[(s.connect(('8.8.8.8', 53)), \n",
    "s.getsockname()[0], s.close()) for s in [socket.socket(socket.AF_INET, \n",
    "socket.SOCK_DGRAM)]][0][1]]) if l][0][0])\n"
   ]
  },
  {
   "cell_type": "code",
   "execution_count": null,
   "id": "8a86b59d",
   "metadata": {},
   "outputs": [],
   "source": []
  }
 ],
 "metadata": {
  "kernelspec": {
   "display_name": "Python 3 (ipykernel)",
   "language": "python",
   "name": "python3"
  },
  "language_info": {
   "codemirror_mode": {
    "name": "ipython",
    "version": 3
   },
   "file_extension": ".py",
   "mimetype": "text/x-python",
   "name": "python",
   "nbconvert_exporter": "python",
   "pygments_lexer": "ipython3",
   "version": "3.9.12"
  }
 },
 "nbformat": 4,
 "nbformat_minor": 5
}
