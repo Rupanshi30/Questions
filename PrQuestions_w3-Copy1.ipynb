{
 "cells": [
  {
   "cell_type": "markdown",
   "id": "06292309",
   "metadata": {},
   "source": [
    "Write a Python program to accept a filename from the user and print the extension of that.\n",
    "\n",
    "Sample filename : abc.java\n",
    "\n",
    "Output : java"
   ]
  },
  {
   "cell_type": "code",
   "execution_count": 1,
   "id": "4ad89146",
   "metadata": {},
   "outputs": [
    {
     "name": "stdout",
     "output_type": "stream",
     "text": [
      "Input the Filename: Data.csv\n",
      "The extension of the file is : 'csv'\n"
     ]
    }
   ],
   "source": [
    "filename = input(\"Input the Filename: \")\n",
    "f_extns = filename.split(\".\")\n",
    "print (\"The extension of the file is : \" + repr(f_extns[-1]))"
   ]
  },
  {
   "cell_type": "markdown",
   "id": "5c5a053a",
   "metadata": {},
   "source": [
    "Write a Python program to display the first and last colors from the following list. \n",
    "\n",
    "color_list = [\"Red\",\"Green\",\"White\" ,\"Black\"]"
   ]
  },
  {
   "cell_type": "code",
   "execution_count": 2,
   "id": "9b0bd843",
   "metadata": {},
   "outputs": [
    {
     "name": "stdout",
     "output_type": "stream",
     "text": [
      "Red Black\n"
     ]
    }
   ],
   "source": [
    "color_list = [\"Red\",\"Green\",\"White\" ,\"Black\"]\n",
    "print(color_list[0],color_list[-1])\n"
   ]
  },
  {
   "cell_type": "markdown",
   "id": "594b290d",
   "metadata": {},
   "source": [
    "Write a Python program to print the calendar of a given month and year.\n",
    "Note : Use 'calendar' module."
   ]
  },
  {
   "cell_type": "code",
   "execution_count": 7,
   "id": "f2427ba1",
   "metadata": {},
   "outputs": [
    {
     "name": "stdout",
     "output_type": "stream",
     "text": [
      "Input the year : 2001\n",
      "Input the month : 06\n",
      "     June 2001\n",
      "Mo Tu We Th Fr Sa Su\n",
      "             1  2  3\n",
      " 4  5  6  7  8  9 10\n",
      "11 12 13 14 15 16 17\n",
      "18 19 20 21 22 23 24\n",
      "25 26 27 28 29 30\n",
      "\n"
     ]
    }
   ],
   "source": [
    "import calendar\n",
    "y = int(input(\"Input the year : \"))\n",
    "m = int(input(\"Input the month : \"))\n",
    "print(calendar.month(y, m))"
   ]
  },
  {
   "cell_type": "markdown",
   "id": "47f614a4",
   "metadata": {},
   "source": [
    " Write a Python program to calculate number of days between two dates.\n",
    " \n",
    "Sample dates : (2014, 7, 2), (2014, 7, 11)\n",
    "\n",
    "Expected output : 9 days"
   ]
  },
  {
   "cell_type": "code",
   "execution_count": 9,
   "id": "8a33e44f",
   "metadata": {},
   "outputs": [
    {
     "name": "stdout",
     "output_type": "stream",
     "text": [
      "9 Days\n"
     ]
    }
   ],
   "source": [
    "from datetime import date\n",
    "f = date(2014, 7, 2)\n",
    "l = date(2014, 7, 11)\n",
    "day = l - f\n",
    "print(day.days,\"Days\")"
   ]
  },
  {
   "cell_type": "markdown",
   "id": "4b41b71a",
   "metadata": {},
   "source": [
    "Write a Python program to get the volume of a sphere with radius 6."
   ]
  },
  {
   "cell_type": "code",
   "execution_count": 10,
   "id": "b1c85f10",
   "metadata": {},
   "outputs": [
    {
     "name": "stdout",
     "output_type": "stream",
     "text": [
      "The volume of the sphere is:  904.7786842338603\n"
     ]
    }
   ],
   "source": [
    "pi = 3.1415926535897931\n",
    "r= 6.0\n",
    "V= 4.0/3.0*pi* r**3\n",
    "print('The volume of the sphere is: ',V)"
   ]
  },
  {
   "cell_type": "markdown",
   "id": "7ff9dbf0",
   "metadata": {},
   "source": [
    "Write a Python program to calculate the sum of three given numbers, if the values are equal then return three times of their sum."
   ]
  },
  {
   "cell_type": "code",
   "execution_count": 13,
   "id": "6830429d",
   "metadata": {},
   "outputs": [
    {
     "name": "stdout",
     "output_type": "stream",
     "text": [
      "6\n",
      "27\n"
     ]
    }
   ],
   "source": [
    "def sum_thrice(x, y, z):\n",
    "\n",
    "    sum = x + y + z\n",
    "  \n",
    "    if x == y == z:\n",
    "        sum = sum * 3\n",
    "    return sum\n",
    "\n",
    "print(sum_thrice(1, 2, 3))\n",
    "print(sum_thrice(3, 3, 3))\n"
   ]
  },
  {
   "cell_type": "code",
   "execution_count": null,
   "id": "91b67751",
   "metadata": {},
   "outputs": [],
   "source": []
  }
 ],
 "metadata": {
  "kernelspec": {
   "display_name": "Python 3 (ipykernel)",
   "language": "python",
   "name": "python3"
  },
  "language_info": {
   "codemirror_mode": {
    "name": "ipython",
    "version": 3
   },
   "file_extension": ".py",
   "mimetype": "text/x-python",
   "name": "python",
   "nbconvert_exporter": "python",
   "pygments_lexer": "ipython3",
   "version": "3.9.12"
  }
 },
 "nbformat": 4,
 "nbformat_minor": 5
}
