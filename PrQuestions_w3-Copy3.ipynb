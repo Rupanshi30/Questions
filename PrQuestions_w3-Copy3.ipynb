{
 "cells": [
  {
   "cell_type": "markdown",
   "id": "4c8f04d3",
   "metadata": {},
   "source": [
    "Write a Python program to create a histogram from a given list of integers."
   ]
  },
  {
   "cell_type": "code",
   "execution_count": 19,
   "id": "507d653b",
   "metadata": {},
   "outputs": [
    {
     "name": "stdout",
     "output_type": "stream",
     "text": [
      "****\n",
      "********\n",
      "****\n",
      "********\n"
     ]
    }
   ],
   "source": [
    "def histogram( items ):\n",
    "    for n in items:\n",
    "        output = ''\n",
    "        times = n\n",
    "        while( times > 0 ):\n",
    "            output += '*'\n",
    "            times = times - 1\n",
    "        print(output)\n",
    "\n",
    "histogram([4, 8, 4, 8])"
   ]
  },
  {
   "cell_type": "markdown",
   "id": "c34b6a71",
   "metadata": {},
   "source": [
    "Write a Python program to concatenate all elements in a list into a string and return it."
   ]
  },
  {
   "cell_type": "code",
   "execution_count": 21,
   "id": "29306b68",
   "metadata": {},
   "outputs": [
    {
     "name": "stdout",
     "output_type": "stream",
     "text": [
      "15122230\n"
     ]
    }
   ],
   "source": [
    "def list_data(list):\n",
    "    result= ''\n",
    "    for element in list:\n",
    "        result += str(element)\n",
    "    return result\n",
    "\n",
    "print(list_data([1, 5, 12, 22,30]))"
   ]
  },
  {
   "cell_type": "markdown",
   "id": "b3e73a2c",
   "metadata": {},
   "source": [
    "Write a Python program to print all even numbers from a given numbers list in the same order and stop the printing if any numbers that come after 237 in the sequence. \n",
    "\n",
    "Sample numbers list :\n",
    "\n",
    "numbers = [    \n",
    "    386, 462, 47, 418, 907, 344, 236, 375, 823, 566, 597, 978, 328, 615, 953, 345, \n",
    "    399, 162, 758, 219, 918, 237, 412, 566, 826, 248, 866, 950, 626, 949, 687, 217, \n",
    "    815, 67, 104, 58, 512, 24, 892, 894, 767, 553, 81, 379, 843, 831, 445, 742, 717, \n",
    "    958,743, 527\n",
    "    ]"
   ]
  },
  {
   "cell_type": "code",
   "execution_count": 26,
   "id": "f98c1da4",
   "metadata": {},
   "outputs": [
    {
     "name": "stdout",
     "output_type": "stream",
     "text": [
      "Even Numbers are---\n",
      "386\n",
      "462\n",
      "418\n",
      "344\n",
      "236\n",
      "566\n",
      "978\n",
      "328\n",
      "162\n",
      "758\n",
      "918\n",
      "237\n"
     ]
    }
   ],
   "source": [
    "numbers = [    \n",
    "    386, 462, 47, 418, 907, 344, 236, 375, 823, 566, 597, 978, 328, 615, 953, 345, \n",
    "    399, 162, 758, 219, 918, 237, 412, 566, 826, 248, 866, 950, 626, 949, 687, 217, \n",
    "    815, 67, 104, 58, 512, 24, 892, 894, 767, 553, 81, 379, 843, 831, 445, 742, 717, \n",
    "    958,743, 527\n",
    "    ]\n",
    "print(\"Even Numbers are---\")\n",
    "for x in numbers:\n",
    "    if x == 237:\n",
    "        print(x)\n",
    "        break;\n",
    "    elif x % 2 == 0:\n",
    "        print(x)"
   ]
  },
  {
   "cell_type": "markdown",
   "id": "85693507",
   "metadata": {},
   "source": [
    "Write a Python program to print out a set containing all the colors from color_list_1 which are not present in color_list_2.\n",
    "\n",
    "Test Data:\n",
    "\n",
    "color_list_1 = set([\"White\", \"Black\", \"Red\"])\n",
    "\n",
    "color_list_2 = set([\"Red\", \"Green\"])\n",
    "\n",
    "Expected Output :\n",
    "\n",
    "{'Black', 'White'}"
   ]
  },
  {
   "cell_type": "code",
   "execution_count": 28,
   "id": "f8883f16",
   "metadata": {},
   "outputs": [
    {
     "name": "stdout",
     "output_type": "stream",
     "text": [
      "Original set elements:\n",
      "List 1 {'Red', 'White', 'Black'}\n",
      "List 2 {'Red', 'Green'}\n",
      "\n",
      " Difference of color_list_1 and color_list_2:\n",
      "{'White', 'Black'}\n",
      "\n",
      " Difference of color_list_2 and color_list_1:\n",
      "{'Green'}\n"
     ]
    }
   ],
   "source": [
    "color_list_1 = set([\"White\", \"Black\", \"Red\"])\n",
    "color_list_2 = set([\"Red\", \"Green\"])\n",
    "print(\"Original set elements:\")\n",
    "print(\"List 1\",color_list_1)\n",
    "print(\"List 2\",color_list_2)\n",
    "print(\"\\n Difference of color_list_1 and color_list_2:\")\n",
    "print(color_list_1.difference(color_list_2))\n",
    "print(\"\\n Difference of color_list_2 and color_list_1:\")\n",
    "print(color_list_2.difference(color_list_1))"
   ]
  },
  {
   "cell_type": "markdown",
   "id": "4503062c",
   "metadata": {},
   "source": [
    "Write a Python program that will accept the base and height of a triangle and compute the area."
   ]
  },
  {
   "cell_type": "code",
   "execution_count": 29,
   "id": "bdbeb8b4",
   "metadata": {},
   "outputs": [
    {
     "name": "stdout",
     "output_type": "stream",
     "text": [
      "Input the base : 4\n",
      "Input the height : 5\n",
      "area =  10.0\n"
     ]
    }
   ],
   "source": [
    "b = int(input(\"Input the base : \"))\n",
    "h = int(input(\"Input the height : \"))\n",
    "\n",
    "area = b*h/2\n",
    "\n",
    "print(\"area = \", area)\n"
   ]
  },
  {
   "cell_type": "code",
   "execution_count": null,
   "id": "f5258619",
   "metadata": {},
   "outputs": [],
   "source": []
  }
 ],
 "metadata": {
  "kernelspec": {
   "display_name": "Python 3 (ipykernel)",
   "language": "python",
   "name": "python3"
  },
  "language_info": {
   "codemirror_mode": {
    "name": "ipython",
    "version": 3
   },
   "file_extension": ".py",
   "mimetype": "text/x-python",
   "name": "python",
   "nbconvert_exporter": "python",
   "pygments_lexer": "ipython3",
   "version": "3.9.12"
  }
 },
 "nbformat": 4,
 "nbformat_minor": 5
}
