{
 "cells": [
  {
   "cell_type": "markdown",
   "id": "b441e84d",
   "metadata": {},
   "source": [
    "Find the first non-repeating integer in a list [1,5,9,2,1,3,2,6,6,3,7,2,8,9,4],                   [1,4,9,2,1,3,2,6,6,3,7,2,8,9,4]"
   ]
  },
  {
   "cell_type": "code",
   "execution_count": 34,
   "id": "d30a6f1b",
   "metadata": {},
   "outputs": [
    {
     "name": "stdout",
     "output_type": "stream",
     "text": [
      "enter the list----1,5,9,2,1,3,2,6,6,3,7,2,8,9,4\n",
      "first non repeating integer is--- 5\n"
     ]
    }
   ],
   "source": [
    "def f_Non_Repeating(li, n):\n",
    "    for i in range(n):\n",
    "        j=0\n",
    "        while(j<n):\n",
    "            if (i!=j and li[i]==li[j]):\n",
    "                break\n",
    "            j+=1\n",
    "        if(j==n):\n",
    "            return li[i]\n",
    "    return 0\n",
    "\n",
    "li=input(\"enter the list----\").split(\",\")\n",
    "n=len(li)\n",
    "print(\"first non repeating integer is---\",f_Non_Repeating(li, n))\n",
    " "
   ]
  },
  {
   "cell_type": "code",
   "execution_count": 33,
   "id": "175f57b4",
   "metadata": {},
   "outputs": [
    {
     "name": "stdout",
     "output_type": "stream",
     "text": [
      "enter the list----1,4,9,2,1,3,2,6,6,3,7,2,8,9,4\n",
      "first non repeating integer is--- 7\n"
     ]
    }
   ],
   "source": [
    "def f_Non_Repeating(li, n):\n",
    "    for i in range(n):\n",
    "        j=0\n",
    "        while(j<n):\n",
    "            if (i!=j and li[i]==li[j]):\n",
    "                break\n",
    "            j+=1\n",
    "        if(j==n):\n",
    "            return li[i]\n",
    "    return 0\n",
    "\n",
    "li=input(\"enter the list----\").split(\",\")\n",
    "n=len(li)\n",
    "print(\"first non repeating integer is---\",f_Non_Repeating(li, n))\n",
    " "
   ]
  },
  {
   "cell_type": "markdown",
   "id": "89f95f2c",
   "metadata": {},
   "source": [
    " Replace in string\n",
    "\n",
    " \n",
    "\n",
    "inp - 'ThIs is sTriNg for testing thE stRinG rePLAcemEnt'\n",
    "\n",
    " \n",
    "\n",
    "inp - THis si sTRInG rof gnitset THe  REpLacem   rePlACEMentw"
   ]
  },
  {
   "cell_type": "code",
   "execution_count": 9,
   "id": "635d79ac",
   "metadata": {},
   "outputs": [
    {
     "name": "stdout",
     "output_type": "stream",
     "text": [
      "enter the stringThIs is sTriNg for testing thE stRinG rePLAcemEnt\n",
      "tHiS IS StRInG FOR TESTING THe STrINg REplaCEMeNT\n"
     ]
    }
   ],
   "source": [
    "t=str(input(\"enter the string\"))\n",
    "t1=t.swapcase()\n",
    "print(t1)"
   ]
  },
  {
   "cell_type": "code",
   "execution_count": null,
   "id": "3c1df531",
   "metadata": {},
   "outputs": [],
   "source": []
  }
 ],
 "metadata": {
  "kernelspec": {
   "display_name": "Python 3 (ipykernel)",
   "language": "python",
   "name": "python3"
  },
  "language_info": {
   "codemirror_mode": {
    "name": "ipython",
    "version": 3
   },
   "file_extension": ".py",
   "mimetype": "text/x-python",
   "name": "python",
   "nbconvert_exporter": "python",
   "pygments_lexer": "ipython3",
   "version": "3.9.12"
  }
 },
 "nbformat": 4,
 "nbformat_minor": 5
}
