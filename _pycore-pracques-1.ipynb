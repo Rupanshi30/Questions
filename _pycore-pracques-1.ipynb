{
 "cells": [
  {
   "cell_type": "markdown",
   "id": "fa80c90c",
   "metadata": {},
   "source": [
    "5.\tL=[“5’2”,”8’9”,”90’4”] convert this into L==[5.2,8.9,90.4]"
   ]
  },
  {
   "cell_type": "code",
   "execution_count": 1,
   "id": "ff04d4c0",
   "metadata": {},
   "outputs": [
    {
     "name": "stdout",
     "output_type": "stream",
     "text": [
      "[5.2, 8.9, 90.4, 90.4]\n"
     ]
    }
   ],
   "source": [
    "L=[\"5'2\",\"8'9\",\"90'4\"]\n",
    "L1=[]\n",
    "L2=[]\n",
    "for i in L[0:]:\n",
    "    #print(i)\n",
    "    i=i.split(\"'\")\n",
    "    #print(i)\n",
    "    for j in i[0]:\n",
    "        #print(j)\n",
    "        L1.append(i[0]+\".\"+i[1])\n",
    "for k in L1:\n",
    "    k=float(k)\n",
    "    L2.append(k)\n",
    "print(L2) "
   ]
  },
  {
   "cell_type": "markdown",
   "id": "461693ed",
   "metadata": {},
   "source": [
    "6.\tWrite a program to check if the two strings entered by user are anagrams or not. Two words are said to be anagrams if the letters of one word can be rearranged to form the other word. For example, jaxa and ajax are anagrams of each other."
   ]
  },
  {
   "cell_type": "code",
   "execution_count": 120,
   "id": "a43f6cf9",
   "metadata": {},
   "outputs": [
    {
     "name": "stdout",
     "output_type": "stream",
     "text": [
      "enter two comma separated strings:ajax,jaxa\n",
      "ajax jaxa are anagrams\n"
     ]
    }
   ],
   "source": [
    "s1,s2=input(\"enter two comma separated strings:\").split(\",\")\n",
    "count=0\n",
    "if len(s1)==len(s2):\n",
    "    if s1.isalpha()==s2.isalpha():\n",
    "        count+=1\n",
    "#print(count)               \n",
    "if count==1:\n",
    "    print(s1,s2,\"are anagrams\")"
   ]
  },
  {
   "cell_type": "markdown",
   "id": "92004600",
   "metadata": {},
   "source": [
    "7.\tTake a list contaning only strings. Now, take a string input from user and rearrange the elements of the list according to the number of occurence of the string taken from user in the elements of the list.\n",
    "E.g.-LIST : [\"no bun\",\"bug bun bug bun bug bug\",\"bunny bug\",\"buggy bug bug buggy\"]\n",
    "STRING TAKEN : \"bug\"\n",
    "OUTPUT LIST:[\"bug bun bug bun bug bug\",\"buggy bug bug buggy\",\"bunny bug\",\"no bun\"]\n"
   ]
  },
  {
   "cell_type": "code",
   "execution_count": 2,
   "id": "170a0ccf",
   "metadata": {},
   "outputs": [
    {
     "name": "stdout",
     "output_type": "stream",
     "text": [
      "{'no bun': 0, 'bug bun bug bun bug bug': 4, 'bunny bug': 1, 'buggy bug bug buggy': 4}\n",
      "dict_items([('no bun', 0), ('bug bun bug bun bug bug', 4), ('bunny bug', 1), ('buggy bug bug buggy', 4)])\n",
      "[('bug bun bug bun bug bug', 4), ('buggy bug bug buggy', 4), ('bunny bug', 1), ('no bun', 0)]\n",
      "['bug bun bug bun bug bug', 'buggy bug bug buggy', 'bunny bug', 'no bun']\n"
     ]
    }
   ],
   "source": [
    "l=[\"no bun\",\"bug bun bug bun bug bug\",\"bunny bug\",\"buggy bug bug buggy\"]\n",
    "d={}\n",
    "for i in l:\n",
    "    v=i.count(\"bug\")\n",
    "    d[i]=v\n",
    "print(d)\n",
    "print(d.items())\n",
    "k=sorted(d.items(),key=lambda t:t[1],reverse=True)\n",
    "print(k)\n",
    "l1=[]\n",
    "for i in k:\n",
    "    l1.append(i[0])\n",
    "print(l1)\n",
    "    "
   ]
  },
  {
   "cell_type": "markdown",
   "id": "c29627a3",
   "metadata": {},
   "source": [
    "8.\tWrite a program that will take user input of cost price and selling price and determines whether its a loss or a profit"
   ]
  },
  {
   "cell_type": "code",
   "execution_count": 122,
   "id": "f1fcf5ef",
   "metadata": {},
   "outputs": [
    {
     "name": "stdout",
     "output_type": "stream",
     "text": [
      "enter the cost price and selling price respectively:270,300\n",
      "profit of: 30\n"
     ]
    }
   ],
   "source": [
    "cp,sp=input(\"enter the cost price and selling price respectively:\").split(\",\")\n",
    "cp=int(cp)\n",
    "sp=int(sp)\n",
    "if cp>sp:\n",
    "    print(\"loss of:\",cp-sp)\n",
    "elif cp<sp:\n",
    "    print(\"profit of:\",sp-cp)\n",
    "elif cp==sp:\n",
    "    print(\"no profit, no loss\")"
   ]
  }
 ],
 "metadata": {
  "kernelspec": {
   "display_name": "Python 3 (ipykernel)",
   "language": "python",
   "name": "python3"
  },
  "language_info": {
   "codemirror_mode": {
    "name": "ipython",
    "version": 3
   },
   "file_extension": ".py",
   "mimetype": "text/x-python",
   "name": "python",
   "nbconvert_exporter": "python",
   "pygments_lexer": "ipython3",
   "version": "3.9.12"
  }
 },
 "nbformat": 4,
 "nbformat_minor": 5
}
