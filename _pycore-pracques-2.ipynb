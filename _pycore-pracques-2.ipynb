{
 "cells": [
  {
   "cell_type": "markdown",
   "id": "0a4ec409",
   "metadata": {},
   "source": [
    "9.\tWrite a program that will tell the number of dogs and chicken are there when the user will provide the value of total heads and legs."
   ]
  },
  {
   "cell_type": "code",
   "execution_count": 132,
   "id": "6911fd61",
   "metadata": {},
   "outputs": [
    {
     "name": "stdout",
     "output_type": "stream",
     "text": [
      "enter the total heads and legs:6,18\n",
      "6 means 6 individual animals\n",
      "18 means 4 number of dogs\n",
      "18 means 1.0 number of chickens\n"
     ]
    }
   ],
   "source": [
    "heads,legs=input(\"enter the total heads and legs:\").split(\",\")\n",
    "heads=int(heads)\n",
    "legs=int(legs)\n",
    "rem=legs%4\n",
    "print(heads,\"means\",heads,\"individual animals\")\n",
    "if legs%4==0:\n",
    "    print(legs,\"means\",legs/4,\"number of dogs\") \n",
    "elif legs%2==0 and rem>=0:\n",
    "    chick_legs=rem/2\n",
    "    print(legs,\"means\",legs//4,\"number of dogs\")\n",
    "    print(legs,\"means\",chick_legs,\"number of chickens\")"
   ]
  },
  {
   "cell_type": "markdown",
   "id": "eb3f50fb",
   "metadata": {},
   "source": [
    "10.\tWrite a program that will swap numbers"
   ]
  },
  {
   "cell_type": "code",
   "execution_count": 136,
   "id": "aa6537a6",
   "metadata": {},
   "outputs": [
    {
     "name": "stdout",
     "output_type": "stream",
     "text": [
      "enter two numbers:12,89\n",
      "89 is now n1\n",
      "12 is now n2\n"
     ]
    }
   ],
   "source": [
    "n1,n2=input(\"enter two numbers:\").split(\",\")\n",
    "n1=int(n1)\n",
    "n2=int(n2)\n",
    "num=n1\n",
    "n1=n2\n",
    "n2=num\n",
    "print(n1,\"is now n1\")\n",
    "print(n2,\"is now n2\")"
   ]
  },
  {
   "cell_type": "code",
   "execution_count": null,
   "id": "a85a245b",
   "metadata": {},
   "outputs": [],
   "source": []
  }
 ],
 "metadata": {
  "kernelspec": {
   "display_name": "Python 3 (ipykernel)",
   "language": "python",
   "name": "python3"
  },
  "language_info": {
   "codemirror_mode": {
    "name": "ipython",
    "version": 3
   },
   "file_extension": ".py",
   "mimetype": "text/x-python",
   "name": "python",
   "nbconvert_exporter": "python",
   "pygments_lexer": "ipython3",
   "version": "3.9.12"
  }
 },
 "nbformat": 4,
 "nbformat_minor": 5
}
