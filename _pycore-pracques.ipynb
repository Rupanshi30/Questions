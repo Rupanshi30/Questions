{
 "cells": [
  {
   "cell_type": "markdown",
   "id": "30839d23",
   "metadata": {},
   "source": [
    "1.\tWrite a program to print every character of a string entered by user in a new line using loop."
   ]
  },
  {
   "cell_type": "code",
   "execution_count": 3,
   "id": "195016d0",
   "metadata": {},
   "outputs": [
    {
     "name": "stdout",
     "output_type": "stream",
     "text": [
      "enter a string:string\n",
      "s \n",
      "\n",
      "t \n",
      "\n",
      "r \n",
      "\n",
      "i \n",
      "\n",
      "n \n",
      "\n",
      "g \n",
      "\n"
     ]
    }
   ],
   "source": [
    "s=input(\"enter a string:\")\n",
    "for i in s:\n",
    "    print(i,\"\\n\")"
   ]
  },
  {
   "cell_type": "markdown",
   "id": "a6dcd76f",
   "metadata": {},
   "source": [
    "2.\tWrite a program to find out the largest and smallest word in the string \"This is an umbrella\""
   ]
  },
  {
   "cell_type": "code",
   "execution_count": 64,
   "id": "5fb8da2a",
   "metadata": {},
   "outputs": [
    {
     "name": "stdout",
     "output_type": "stream",
     "text": [
      "is , is the smallest word with length: 2\n",
      "umbrella , is the largest word with length: 8\n"
     ]
    }
   ],
   "source": [
    "s=\"This is an umbrella\"\n",
    "s1=s.split(\" \")\n",
    "sm=len(s1[0])\n",
    "#print(type(sm))\n",
    "for i in s1:\n",
    "    k=len(i)\n",
    "    #print(k)\n",
    "    #print(type(k))\n",
    "    if k<sm:\n",
    "        i=str(i)\n",
    "        print(i,\",\",\"is the smallest word with length:\",k)\n",
    "        break\n",
    "for i in s1:\n",
    "    k=len(i)\n",
    "    if k>sm:\n",
    "        i=str(i)\n",
    "        print(i,\",\",\"is the largest word with length:\",k)\n",
    "        break"
   ]
  },
  {
   "cell_type": "markdown",
   "id": "595ab3f0",
   "metadata": {},
   "source": [
    "3.\tWrite down the names of 10 of your friends in a list and then sort those in alphabetically ascending order."
   ]
  },
  {
   "cell_type": "code",
   "execution_count": 66,
   "id": "fb463ccb",
   "metadata": {},
   "outputs": [
    {
     "name": "stdout",
     "output_type": "stream",
     "text": [
      "['brad', 'junaid', 'lovleen', 'maddy', 'ojha', 'poppy', 'rishu', 'riya', 'viraj', 'zoya']\n"
     ]
    }
   ],
   "source": [
    "l=[\"riya\",\"junaid\",\"viraj\",\"lovleen\",\"zoya\",\"brad\",\"rishu\",\"maddy\",\"ojha\",\"poppy\"]\n",
    "for i in l:\n",
    "    l.sort()\n",
    "print(l)"
   ]
  },
  {
   "cell_type": "markdown",
   "id": "3a3744e7",
   "metadata": {},
   "source": [
    "4.\tu need to lower all the characters in the given string   s = \"A man, A plan, A goodman:\"\n",
    "and remove all non-alphanumeric characters from the string and check after removing if the string is palindrome or not.\n"
   ]
  },
  {
   "cell_type": "code",
   "execution_count": 1,
   "id": "ee3eb197",
   "metadata": {},
   "outputs": [
    {
     "name": "stdout",
     "output_type": "stream",
     "text": [
      "Aman,Aplan,Agoodman:\n",
      "AmanAplanAgoodman\n",
      "not\n"
     ]
    }
   ],
   "source": [
    "s=\"A man, A plan, A goodman:\"\n",
    "s1=s.replace(\" \",\"\")\n",
    "print(s1)\n",
    "s1=s1.replace(\",\",\"\").replace(\":\",\"\")\n",
    "print(s1)\n",
    "l_s=s1.lower()\n",
    "if l_s==l_s[::-1]:\n",
    "    print(\"palindorme\")\n",
    "else:\n",
    "    print(\"not\")\n"
   ]
  }
 ],
 "metadata": {
  "kernelspec": {
   "display_name": "Python 3 (ipykernel)",
   "language": "python",
   "name": "python3"
  },
  "language_info": {
   "codemirror_mode": {
    "name": "ipython",
    "version": 3
   },
   "file_extension": ".py",
   "mimetype": "text/x-python",
   "name": "python",
   "nbconvert_exporter": "python",
   "pygments_lexer": "ipython3",
   "version": "3.9.12"
  }
 },
 "nbformat": 4,
 "nbformat_minor": 5
}
