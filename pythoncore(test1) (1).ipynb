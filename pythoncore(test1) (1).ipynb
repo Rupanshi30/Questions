{
 "cells": [
  {
   "cell_type": "markdown",
   "id": "70484243",
   "metadata": {},
   "source": [
    "### q.1 \n",
    "\n",
    "### l=['a','quick','brown','fox','jumps','over','the','lazy','dog']\n",
    "### 1) arrange the list in alphabetical order \n",
    "### 2) count the total letters and count of distinct letters in the list "
   ]
  },
  {
   "cell_type": "code",
   "execution_count": 4,
   "id": "77a9c537",
   "metadata": {},
   "outputs": [
    {
     "name": "stdout",
     "output_type": "stream",
     "text": [
      "['a', 'brown', 'dog', 'fox', 'jumps', 'lazy', 'over', 'quick', 'the']\n"
     ]
    }
   ],
   "source": [
    "l=['a','quick','brown','fox','jumps','over','the','lazy','dog']\n",
    "l.sort()\n",
    "print(l)"
   ]
  },
  {
   "cell_type": "code",
   "execution_count": 1,
   "id": "0f62a250",
   "metadata": {},
   "outputs": [
    {
     "data": {
      "text/plain": [
       "['a', 'brown', 'dog', 'fox', 'jumps', 'lazy', 'over', 'quick', 'the']"
      ]
     },
     "execution_count": 1,
     "metadata": {},
     "output_type": "execute_result"
    }
   ],
   "source": [
    "l=['a','quick','brown','fox','jumps','over','the','lazy','dog']\n",
    "sorted(l)"
   ]
  },
  {
   "cell_type": "code",
   "execution_count": 7,
   "id": "3a3a4103",
   "metadata": {},
   "outputs": [
    {
     "name": "stdout",
     "output_type": "stream",
     "text": [
      "['a', 'q', 'u', 'i', 'c', 'k', 'b', 'r', 'o', 'w', 'n', 'f', 'o', 'x', 'j', 'u', 'm', 'p', 's', 'o', 'v', 'e', 'r', 't', 'h', 'e', 'l', 'a', 'z', 'y', 'd', 'o', 'g']\n",
      "33\n",
      "['a', 'q', 'u', 'i', 'c', 'k', 'b', 'r', 'o', 'w', 'n', 'f', 'x', 'j', 'm', 'p', 's', 'v', 'e', 't', 'h', 'l', 'z', 'y', 'd', 'g'] ----unique\n",
      "26\n"
     ]
    }
   ],
   "source": [
    "l=['a','quick','brown','fox','jumps','over','the','lazy','dog']\n",
    "unique=[]\n",
    "for i in l:\n",
    "    for j in i:\n",
    "        unique.append(j)\n",
    "print(unique)\n",
    "print(len(unique))\n",
    "u1=[]\n",
    "for i in unique:\n",
    "    if i not in u1:\n",
    "        u1.append(i)\n",
    "print(u1,\"----unique\")\n",
    "print(len(u1))"
   ]
  },
  {
   "cell_type": "markdown",
   "id": "b6b17fc9",
   "metadata": {},
   "source": [
    "### q.2\n",
    "### With a given tuple (1,2,3,4,5,6,7,8,9,10), write a program to print the first half values in one line and the last half values in one line. "
   ]
  },
  {
   "cell_type": "code",
   "execution_count": 24,
   "id": "495f6bb4",
   "metadata": {},
   "outputs": [
    {
     "name": "stdout",
     "output_type": "stream",
     "text": [
      "(1, 2, 3, 4, 5)\n",
      "(6, 7, 8, 9, 10)\n"
     ]
    }
   ],
   "source": [
    "t=(1,2,3,4,5,6,7,8,9,10)\n",
    "print(t[0:5])\n",
    "print(t[5:10])"
   ]
  },
  {
   "cell_type": "markdown",
   "id": "afbbbf27",
   "metadata": {},
   "source": [
    "### q.3 \n",
    "### a) Use a list comprehension to square each odd number in a list. The list is input by a sequence of comma-separated numbers. \n",
    "\n",
    "### b) wap  to remove punctuation mark from list of string using list comprehension\n",
    "l=[\"hello'\",1'2,22'4,\"hi how'r u\"]\n",
    "\n",
    "## c) Use a list comprehension to square each odd number in a list. The list is input by a sequence of comma-separated numbers.\n",
    "Suppose the input is supplied to the program: 1,2,3,4,5,6,7,8,9\n",
    "Then, the output should be: 1, 3, 5, 7, 9 \n",
    "\n"
   ]
  },
  {
   "cell_type": "code",
   "execution_count": 40,
   "id": "7c1e8bbd",
   "metadata": {},
   "outputs": [
    {
     "data": {
      "text/plain": [
       "[1, 9, 25, 49, 81]"
      ]
     },
     "execution_count": 40,
     "metadata": {},
     "output_type": "execute_result"
    }
   ],
   "source": [
    "l=[1,2,3,4,5,6,7,8,9]\n",
    "[i*i for i in l if i%2!=0]\n"
   ]
  },
  {
   "cell_type": "code",
   "execution_count": 12,
   "id": "4e45c14b",
   "metadata": {},
   "outputs": [
    {
     "name": "stdout",
     "output_type": "stream",
     "text": [
      "enter the elements--1 2 3 5\n",
      "[1, 9, 25]\n"
     ]
    }
   ],
   "source": [
    "l=input(\"enter the elements--\").split(\" \")\n",
    "l1=[int(num)*int(num) for num in l if int(num)%2!=0]\n",
    "print(l1)"
   ]
  },
  {
   "cell_type": "code",
   "execution_count": 10,
   "id": "8bb0f523",
   "metadata": {},
   "outputs": [
    {
     "data": {
      "text/plain": [
       "['hello', '12', '224', 'hi howr u']"
      ]
     },
     "execution_count": 10,
     "metadata": {},
     "output_type": "execute_result"
    }
   ],
   "source": [
    "l=[\"hello'\",\"1'2\",\"22'4\",\"hi how'r u\"]\n",
    "[i.replace(\"'\",\"\") for i in l ]"
   ]
  },
  {
   "cell_type": "code",
   "execution_count": 45,
   "id": "f2f67e12",
   "metadata": {},
   "outputs": [
    {
     "data": {
      "text/plain": [
       "[1, 3, 5, 7, 9]"
      ]
     },
     "execution_count": 45,
     "metadata": {},
     "output_type": "execute_result"
    }
   ],
   "source": [
    "l=[1,2,3,4,5,6,7,8,9]\n",
    "[i for i in l if i%2!=0]"
   ]
  },
  {
   "cell_type": "markdown",
   "id": "b899fef5",
   "metadata": {},
   "source": [
    "### q.4\n",
    "\n",
    "### Find Longest String in List\n",
    "l=[\"hello\",\"madrid\",\"hi how r u\",\"i m doing good u tell\",\"meet\"]"
   ]
  },
  {
   "cell_type": "code",
   "execution_count": 54,
   "id": "2fbdd73b",
   "metadata": {},
   "outputs": [
    {
     "name": "stdout",
     "output_type": "stream",
     "text": [
      "longest string is--- i m doing good u tell\n"
     ]
    }
   ],
   "source": [
    "l=[\"hello\",\"madrid\",\"hi how r u\",\"i m doing good u tell\",\"meet\"]\n",
    "max=0\n",
    "for i in l:\n",
    "    if len(i)>max:\n",
    "        max=len(i)\n",
    "        val=i\n",
    "print(\"longest string is---\",val)"
   ]
  },
  {
   "cell_type": "markdown",
   "id": "891150f6",
   "metadata": {},
   "source": [
    "### q.5\n",
    "\n",
    "### Display the characters at an odd position in string input by User."
   ]
  },
  {
   "cell_type": "code",
   "execution_count": 66,
   "id": "9ba1258f",
   "metadata": {},
   "outputs": [
    {
     "name": "stdout",
     "output_type": "stream",
     "text": [
      "enter the string12 34 hfdui 56 bjec ehrf\n",
      "34\n",
      "56\n",
      "ehrf\n"
     ]
    }
   ],
   "source": [
    "li=input(\"enter the string\").split(\" \")\n",
    "odd=[]\n",
    "for i in range(len(li)):\n",
    "    if i%2!=0:\n",
    "        print(li[i])\n",
    "        \n"
   ]
  },
  {
   "cell_type": "markdown",
   "id": "4f01e850",
   "metadata": {},
   "source": [
    "### q.6\n",
    "\n",
    "### Extract file name in this  /document/imp/salary.txt\n"
   ]
  },
  {
   "cell_type": "code",
   "execution_count": 16,
   "id": "f9e2eb76",
   "metadata": {},
   "outputs": [
    {
     "name": "stdout",
     "output_type": "stream",
     "text": [
      "['', 'document', 'imp', 'salary.txt']\n",
      "salary.txt\n"
     ]
    },
    {
     "data": {
      "text/plain": [
       "'salary'"
      ]
     },
     "execution_count": 16,
     "metadata": {},
     "output_type": "execute_result"
    }
   ],
   "source": [
    "s=\"/document/imp/salary.txt\"\n",
    "l=s.rsplit(\"/\")\n",
    "print(l)\n",
    "print(l[3])\n",
    "x=l[3]\n",
    "x1=x.split(\".\")\n",
    "x1[0]"
   ]
  },
  {
   "cell_type": "markdown",
   "id": "324c2cc9",
   "metadata": {},
   "source": [
    "### q.7\n",
    "### Write a program which accepts a sequence of comma-separated numbers from console and generate a list and a tuple which contains every number.\n",
    "Suppose the input is supplied to the program: 34, 67, 55, 33, 12, 98\n",
    "\n",
    "\n",
    "Then, the output should be:\n",
    "\n",
    "\n",
    "['34', '67', '55', '33', '12', '98'] and ('34', '67', '55', '33', '12', '98')\n"
   ]
  },
  {
   "cell_type": "code",
   "execution_count": 119,
   "id": "bd485c6d",
   "metadata": {},
   "outputs": [
    {
     "name": "stdout",
     "output_type": "stream",
     "text": [
      "enter the values--34,67,55,33,12,98\n",
      "['34', '67', '55', '33', '12', '98']\n"
     ]
    },
    {
     "ename": "TypeError",
     "evalue": "'tuple' object is not callable",
     "output_type": "error",
     "traceback": [
      "\u001b[1;31m---------------------------------------------------------------------------\u001b[0m",
      "\u001b[1;31mTypeError\u001b[0m                                 Traceback (most recent call last)",
      "Input \u001b[1;32mIn [119]\u001b[0m, in \u001b[0;36m<cell line: 7>\u001b[1;34m()\u001b[0m\n\u001b[0;32m      5\u001b[0m     l1\u001b[38;5;241m.\u001b[39mappend(i)\n\u001b[0;32m      6\u001b[0m \u001b[38;5;28mprint\u001b[39m(l1)\n\u001b[1;32m----> 7\u001b[0m \u001b[38;5;28mprint\u001b[39m(\u001b[38;5;28;43mtuple\u001b[39;49m\u001b[43m(\u001b[49m\u001b[43ml1\u001b[49m\u001b[43m)\u001b[49m)\n",
      "\u001b[1;31mTypeError\u001b[0m: 'tuple' object is not callable"
     ]
    }
   ],
   "source": [
    "l=input(\"enter the values--\").split(\",\")\n",
    "l1=[]\n",
    "for i in l:\n",
    "    i=str(i)\n",
    "    l1.append(i)\n",
    "print(l1)\n",
    "print(tuple(l1))\n"
   ]
  },
  {
   "cell_type": "markdown",
   "id": "dc2e0c2d",
   "metadata": {},
   "source": [
    "### q. 8\n",
    "\n",
    "### Write a program to display second largest element of the list entered by user "
   ]
  },
  {
   "cell_type": "code",
   "execution_count": 18,
   "id": "4b42eb87",
   "metadata": {},
   "outputs": [
    {
     "name": "stdout",
     "output_type": "stream",
     "text": [
      "enter the number---2 3 4 5 55 67 78 68\n",
      "68\n"
     ]
    }
   ],
   "source": [
    "l=input(\"enter the number---\").split(\" \")\n",
    "l.sort()\n",
    "print(l[-2])"
   ]
  },
  {
   "cell_type": "markdown",
   "id": "ac3570f6",
   "metadata": {},
   "source": [
    "### q.9\n",
    "\n",
    "### Write a program to display the most, second most and least frequent word of the list\n",
    "\n",
    "l=[\"abc\",\"bac\",\"abc\",\"abb\",\"abb\",\"abb\"]"
   ]
  },
  {
   "cell_type": "code",
   "execution_count": 19,
   "id": "acbd2aec",
   "metadata": {},
   "outputs": [
    {
     "ename": "ImportError",
     "evalue": "cannot import name 'counter' from 'collections' (C:\\Users\\rupan\\anaconda3\\lib\\collections\\__init__.py)",
     "output_type": "error",
     "traceback": [
      "\u001b[1;31m---------------------------------------------------------------------------\u001b[0m",
      "\u001b[1;31mImportError\u001b[0m                               Traceback (most recent call last)",
      "Input \u001b[1;32mIn [19]\u001b[0m, in \u001b[0;36m<cell line: 2>\u001b[1;34m()\u001b[0m\n\u001b[0;32m      1\u001b[0m l\u001b[38;5;241m=\u001b[39m[\u001b[38;5;124m\"\u001b[39m\u001b[38;5;124mabc\u001b[39m\u001b[38;5;124m\"\u001b[39m,\u001b[38;5;124m\"\u001b[39m\u001b[38;5;124mbac\u001b[39m\u001b[38;5;124m\"\u001b[39m,\u001b[38;5;124m\"\u001b[39m\u001b[38;5;124mabc\u001b[39m\u001b[38;5;124m\"\u001b[39m,\u001b[38;5;124m\"\u001b[39m\u001b[38;5;124mabb\u001b[39m\u001b[38;5;124m\"\u001b[39m,\u001b[38;5;124m\"\u001b[39m\u001b[38;5;124mabb\u001b[39m\u001b[38;5;124m\"\u001b[39m,\u001b[38;5;124m\"\u001b[39m\u001b[38;5;124mabb\u001b[39m\u001b[38;5;124m\"\u001b[39m]\n\u001b[1;32m----> 2\u001b[0m \u001b[38;5;28;01mfrom\u001b[39;00m \u001b[38;5;21;01mcollections\u001b[39;00m \u001b[38;5;28;01mimport\u001b[39;00m counter\n\u001b[0;32m      3\u001b[0m \u001b[38;5;28;01mfor\u001b[39;00m i \u001b[38;5;129;01min\u001b[39;00m l:\n\u001b[0;32m      4\u001b[0m     \u001b[38;5;28mprint\u001b[39m(i,\u001b[38;5;124m\"\u001b[39m\u001b[38;5;124m-----\u001b[39m\u001b[38;5;124m\"\u001b[39m,l\u001b[38;5;241m.\u001b[39mcount(i))\n",
      "\u001b[1;31mImportError\u001b[0m: cannot import name 'counter' from 'collections' (C:\\Users\\rupan\\anaconda3\\lib\\collections\\__init__.py)"
     ]
    }
   ],
   "source": [
    "l=[\"abc\",\"bac\",\"abc\",\"abb\",\"abb\",\"abb\"]\n",
    "from collections import counter\n",
    "for i in l:\n",
    "    print(i,\"-----\",l.count(i))\n",
    "print(counter(l))"
   ]
  },
  {
   "cell_type": "markdown",
   "id": "785428f2",
   "metadata": {},
   "source": [
    "### q.10\n",
    "### Write a program that calculates and prints the value according to the given formula:\n",
    "Q = Square root of [(2 * C * D)/H]\n",
    "\n",
    "\n",
    "Following are the fixed values of C and H: C is 50. H is 30.\n"
   ]
  },
  {
   "cell_type": "code",
   "execution_count": 108,
   "id": "df6de49d",
   "metadata": {},
   "outputs": [
    {
     "name": "stdout",
     "output_type": "stream",
     "text": [
      "0.3333333333333333\n"
     ]
    }
   ],
   "source": [
    "import math\n",
    "C=50\n",
    "H=30\n",
    "D=1\n",
    "Q=math.sqrt(2 * C * D)/H\n",
    "print(Q)"
   ]
  },
  {
   "cell_type": "markdown",
   "id": "906e1c32",
   "metadata": {},
   "source": [
    "### q.11\n",
    "### wap to place \"hello\" at even index of string.\n",
    "\n",
    "eg: string :  \"madrid\"\n",
    "\n",
    "output:    helloahellorhellod"
   ]
  },
  {
   "cell_type": "code",
   "execution_count": 117,
   "id": "1eaaa26c",
   "metadata": {},
   "outputs": [
    {
     "name": "stdout",
     "output_type": "stream",
     "text": [
      "['m', 'hello', 'd', 'hello', 'i', 'hello']\n"
     ]
    }
   ],
   "source": [
    "s=\"madrid\"\n",
    "s1=[]\n",
    "for i in range(len(s)):\n",
    "    if i%2==0:\n",
    "        s1.append(s[i])\n",
    "    else:\n",
    "        s1.append(\"hello\")\n",
    "print(s1)"
   ]
  },
  {
   "cell_type": "markdown",
   "id": "ed4d7f85",
   "metadata": {},
   "source": [
    "### q.12\n",
    "## Write a program that accepts a sequence of whitespace separated words as input and prints the words after removing all duplicate words and sorting them alphanumerically.\n",
    "Suppose the input is supplied to the program: hello world and practice makes perfect and hello world again\n"
   ]
  },
  {
   "cell_type": "markdown",
   "id": "698f6591",
   "metadata": {},
   "source": []
  },
  {
   "cell_type": "markdown",
   "id": "0cb01fdf",
   "metadata": {},
   "source": [
    "## q.13\n",
    "#### You are required to write a program to sort the (name, age, score) tuples by ascending order where name is string, age and height are numbers. The tuples are input by console. The sort criteria is: \n",
    "1: Sort based on name; \n",
    "2: Then sort based on age; \n",
    "3: Then sort by score. \n",
    "\n",
    " \n",
    "The priority is that name > age > score. \n",
    "\n",
    "\n",
    "If the following tuples are given as input to the program: \n",
    "\n",
    "\n",
    "Tom,19,80 \n",
    "\n",
    "John,20,90 \n",
    "\n",
    "Jony,17,91\n",
    "\n",
    "Jony,17,93 \n",
    "\n",
    "Json,21,85 \n",
    "\n",
    "\n",
    "Then, the output of the program should be: \n",
    "[('John', '20', '90'), ('Jony', '17', '91'), ('Jony', '17', '93'), ('Json', '21', '85'), ('Tom', '19', '80')] \n",
    " "
   ]
  },
  {
   "cell_type": "code",
   "execution_count": 21,
   "id": "9c7acb63",
   "metadata": {},
   "outputs": [
    {
     "name": "stdout",
     "output_type": "stream",
     "text": [
      "enter the number of students--4\n",
      "enter the namerupa\n",
      "enter the age23\n",
      "enter the score45\n",
      "enter the namefv\n",
      "enter the age33\n",
      "enter the score55\n",
      "enter the namehbgfzs\n",
      "enter the age3\n",
      "enter the score3\n",
      "enter the namedew4\n",
      "enter the age3\n",
      "enter the score2\n",
      "[('rupa', '23', '45'), ('fv', '33', '55'), ('hbgfzs', '3', '3'), ('dew4', '3', '2')]\n"
     ]
    }
   ],
   "source": [
    "n=int(input(\"enter the number of students--\"))\n",
    "l1=[]\n",
    "for i in range(0,n):\n",
    "    l=[]\n",
    "    name=input(\"enter the name\")\n",
    "    l.append(name)\n",
    "    age=input(\"enter the age\")\n",
    "    l.append(age)\n",
    "    score=input(\"enter the score\")\n",
    "    l.append(score)\n",
    "    t=tuple(l)\n",
    "    l1.append(t)\n",
    "print(l1)\n",
    "    "
   ]
  },
  {
   "cell_type": "code",
   "execution_count": 22,
   "id": "b867988d",
   "metadata": {},
   "outputs": [
    {
     "data": {
      "text/plain": [
       "[('dew4', '3', '2'),\n",
       " ('fv', '33', '55'),\n",
       " ('hbgfzs', '3', '3'),\n",
       " ('rupa', '23', '45')]"
      ]
     },
     "execution_count": 22,
     "metadata": {},
     "output_type": "execute_result"
    }
   ],
   "source": [
    "sorted(l1,key=lambda t:t[0])"
   ]
  },
  {
   "cell_type": "code",
   "execution_count": 23,
   "id": "bf8751a6",
   "metadata": {},
   "outputs": [
    {
     "data": {
      "text/plain": [
       "[('rupa', '23', '45'),\n",
       " ('hbgfzs', '3', '3'),\n",
       " ('dew4', '3', '2'),\n",
       " ('fv', '33', '55')]"
      ]
     },
     "execution_count": 23,
     "metadata": {},
     "output_type": "execute_result"
    }
   ],
   "source": [
    "sorted(l1,key=lambda t:t[1])"
   ]
  },
  {
   "cell_type": "code",
   "execution_count": 24,
   "id": "3a0b2771",
   "metadata": {},
   "outputs": [
    {
     "data": {
      "text/plain": [
       "[('dew4', '3', '2'),\n",
       " ('hbgfzs', '3', '3'),\n",
       " ('rupa', '23', '45'),\n",
       " ('fv', '33', '55')]"
      ]
     },
     "execution_count": 24,
     "metadata": {},
     "output_type": "execute_result"
    }
   ],
   "source": [
    "sorted(l1,key=lambda t:t[2])"
   ]
  },
  {
   "cell_type": "code",
   "execution_count": null,
   "id": "6a174507",
   "metadata": {},
   "outputs": [],
   "source": []
  }
 ],
 "metadata": {
  "kernelspec": {
   "display_name": "Python 3 (ipykernel)",
   "language": "python",
   "name": "python3"
  },
  "language_info": {
   "codemirror_mode": {
    "name": "ipython",
    "version": 3
   },
   "file_extension": ".py",
   "mimetype": "text/x-python",
   "name": "python",
   "nbconvert_exporter": "python",
   "pygments_lexer": "ipython3",
   "version": "3.9.12"
  }
 },
 "nbformat": 4,
 "nbformat_minor": 5
}
