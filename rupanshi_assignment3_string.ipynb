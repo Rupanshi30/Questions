{
 "cells": [
  {
   "cell_type": "markdown",
   "id": "f903d769",
   "metadata": {},
   "source": [
    "Q.1 Write a program to accept a string and display the string with changed case(Change upper and lower case)\n"
   ]
  },
  {
   "cell_type": "code",
   "execution_count": 15,
   "id": "9e60cd77",
   "metadata": {},
   "outputs": [
    {
     "name": "stdout",
     "output_type": "stream",
     "text": [
      "enter the stringRUPAnshi\n",
      "RUPANSHI ---upper case\n",
      "rupanshi ---lower case\n",
      "RUPAnshi ---original string\n"
     ]
    }
   ],
   "source": [
    "s=str(input(\"enter the string\"))\n",
    "print(s.upper(),\"---upper case\")\n",
    "print(s.lower(),\"---lower case\")\n",
    "print(s,\"---original string\")"
   ]
  },
  {
   "cell_type": "markdown",
   "id": "3dcc7525",
   "metadata": {},
   "source": [
    "Q.2   Write a program to count the length of string without using len() function.\n"
   ]
  },
  {
   "cell_type": "code",
   "execution_count": 12,
   "id": "560853d2",
   "metadata": {},
   "outputs": [
    {
     "name": "stdout",
     "output_type": "stream",
     "text": [
      "enter the stringRupanshi2730\n",
      "length of string is---- 12\n"
     ]
    }
   ],
   "source": [
    "s=str(input(\"enter the string\"))\n",
    "count=0\n",
    "for i in s:\n",
    "    count+=1\n",
    "print(\"length of string is----\",count)\n"
   ]
  },
  {
   "cell_type": "markdown",
   "id": "ce26020b",
   "metadata": {},
   "source": [
    "Q.3 Write a program to accept the string from user and display the ascii value for each letter."
   ]
  },
  {
   "cell_type": "code",
   "execution_count": 19,
   "id": "6fa9e4ec",
   "metadata": {},
   "outputs": [
    {
     "name": "stdout",
     "output_type": "stream",
     "text": [
      "enter the stringRUPAnshi\n",
      "Ascii value of R is--- 82\n",
      "Ascii value of U is--- 85\n",
      "Ascii value of P is--- 80\n",
      "Ascii value of A is--- 65\n",
      "Ascii value of n is--- 110\n",
      "Ascii value of s is--- 115\n",
      "Ascii value of h is--- 104\n",
      "Ascii value of i is--- 105\n"
     ]
    }
   ],
   "source": [
    "s=str(input(\"enter the string\"))\n",
    "for i in s:\n",
    "    print(\"Ascii value of\",i,\"is---\",ord(i))"
   ]
  },
  {
   "cell_type": "markdown",
   "id": "c2ead88e",
   "metadata": {},
   "source": [
    "Q.4 Write a program that accepts the string and replace all spaces by “#” symbol.\n"
   ]
  },
  {
   "cell_type": "code",
   "execution_count": 25,
   "id": "68ce8548",
   "metadata": {},
   "outputs": [
    {
     "name": "stdout",
     "output_type": "stream",
     "text": [
      "enter the stringA b c d E\n",
      "A b c d E --original string\n",
      "A#b#c#d#E --after replacing ' ' with #\n"
     ]
    }
   ],
   "source": [
    "s=str(input(\"enter the string\"))\n",
    "s1=s.replace(\" \",\"#\")\n",
    "print(s,\"--original string\")\n",
    "print(s1,\"--after replacing ' ' with #\")"
   ]
  },
  {
   "cell_type": "markdown",
   "id": "1e787606",
   "metadata": {},
   "source": [
    "Q.5 Write a program that delete the character at specific position.\n"
   ]
  },
  {
   "cell_type": "code",
   "execution_count": 27,
   "id": "f7615c01",
   "metadata": {},
   "outputs": [
    {
     "name": "stdout",
     "output_type": "stream",
     "text": [
      "enter the string----123Rupanshi\n",
      "enter the position---2\n",
      "12Rupanshi\n"
     ]
    }
   ],
   "source": [
    "s=str(input(\"enter the string----\"))\n",
    "pos=int(input(\"enter the position---\"))\n",
    "s1=\"\"\n",
    "for i in range(0,len(s)):\n",
    "    if i!=pos: \n",
    "        s1=s1+s[i]  \n",
    "print(s1)"
   ]
  },
  {
   "cell_type": "markdown",
   "id": "3c7519f3",
   "metadata": {},
   "source": [
    "Q.6 Write a  program which accepts a strings and count the frequency of each vowel."
   ]
  },
  {
   "cell_type": "code",
   "execution_count": 35,
   "id": "4ffd00b0",
   "metadata": {},
   "outputs": [
    {
     "name": "stdout",
     "output_type": "stream",
     "text": [
      "enter the string---12AeiouUsgh\n",
      "6\n"
     ]
    }
   ],
   "source": [
    "s=str(input(\"enter the string---\"))\n",
    "count=0\n",
    "for i in s:\n",
    "    if i==\"a\" or i==\"e\" or i==\"i\" or i==\"o\" or i==\"u\" or i==\"A\" or i==\"E\" or  i==\"I\" or i==\"O\" or i==\"U\":\n",
    "        count+=1\n",
    "    \n",
    "print(count)    "
   ]
  },
  {
   "cell_type": "markdown",
   "id": "076f65aa",
   "metadata": {},
   "source": [
    "Q.7 Write a program which accepts the two strings from user and display the common words(ignore case).\n"
   ]
  },
  {
   "cell_type": "code",
   "execution_count": 6,
   "id": "ac09a80e",
   "metadata": {},
   "outputs": [
    {
     "name": "stdout",
     "output_type": "stream",
     "text": [
      "enter the first string : rupanshi\n",
      "enter the second string : rana\n",
      "r\n",
      "a\n",
      "n\n"
     ]
    }
   ],
   "source": [
    "s=input(\"enter the first string : \")\n",
    "t=input(\"enter the second string : \")\n",
    "for i in s:\n",
    "    for j in t:\n",
    "        if i in t:\n",
    "            print(i)\n",
    "            break"
   ]
  },
  {
   "cell_type": "markdown",
   "id": "002097d0",
   "metadata": {},
   "source": [
    "Q.8 WAP to remove vowels from the string"
   ]
  },
  {
   "cell_type": "code",
   "execution_count": 51,
   "id": "e72bf25e",
   "metadata": {},
   "outputs": [
    {
     "name": "stdout",
     "output_type": "stream",
     "text": [
      "enter the string---aEtypeE\n",
      "typ\n"
     ]
    }
   ],
   "source": [
    "s=str(input(\"enter the string---\"))\n",
    "vowels=('a','e','i','o','u','A','E','I','O','U')\n",
    "string=\"\"\n",
    "for i in range(len(s)):\n",
    "    if s[i] not in vowels:\n",
    "        string+=s[i]\n",
    "print(string)\n",
    "        "
   ]
  },
  {
   "cell_type": "markdown",
   "id": "4f85d7bc",
   "metadata": {},
   "source": [
    "Q.9 Write a program that takes full name as input and displays the abbrevations of the first and middle names except the last name which is displayed as it is. Eg:\n",
    "Robert Brett Roser output :R.B.Roser.\n"
   ]
  },
  {
   "cell_type": "code",
   "execution_count": 60,
   "id": "8929cb6e",
   "metadata": {},
   "outputs": [
    {
     "name": "stdout",
     "output_type": "stream",
     "text": [
      "enter your full name--Rupanshi Dahiya Rana\n",
      "R . D . Rana\n"
     ]
    }
   ],
   "source": [
    "full_name=str(input(\"enter your full name--\"))\n",
    "list1=full_name.split(\" \")\n",
    "print(list1[0][0],\".\",list1[1][0],\".\",list1[2][:])"
   ]
  },
  {
   "cell_type": "markdown",
   "id": "eb8f80b4",
   "metadata": {},
   "source": [
    "Q.10 Write a Python program to get a string made of the first 2 and the last 2 chars from a given a string. If the string length is less than 2, return instead of the empty string.\n"
   ]
  },
  {
   "cell_type": "code",
   "execution_count": 67,
   "id": "e1202c65",
   "metadata": {},
   "outputs": [
    {
     "name": "stdout",
     "output_type": "stream",
     "text": [
      "enter the stringwk\n",
      "wkwk\n"
     ]
    }
   ],
   "source": [
    "s=str(input(\"enter the string\"))\n",
    "if len(s)<2:\n",
    "    print(\" \",\"length is less than 2\")\n",
    "else:\n",
    "    print(s[0:2]+s[-2:])"
   ]
  },
  {
   "cell_type": "markdown",
   "id": "8670b6ce",
   "metadata": {},
   "source": [
    "Q.12 Write a Python program to get a single string from two given strings, \n",
    "separated by a space and swap the first two characters of each string. Go to the editor\n"
   ]
  },
  {
   "cell_type": "code",
   "execution_count": 77,
   "id": "037fdacf",
   "metadata": {},
   "outputs": [
    {
     "name": "stdout",
     "output_type": "stream",
     "text": [
      "enter the first string--abc\n",
      "enter the second string--xyz\n",
      "xyc abz\n"
     ]
    }
   ],
   "source": [
    "s=str(input(\"enter the first string--\"))\n",
    "t=str(input(\"enter the second string--\"))\n",
    "f=t[0:2]+s[2:]+' '+s[0:2]+t[2:]\n",
    "print(f)"
   ]
  },
  {
   "cell_type": "markdown",
   "id": "b5d1d8a4",
   "metadata": {},
   "source": [
    "Q.13 Write a Python program to add 'ing' at the end of a given string (length should be at least 3). \n",
    "If the given string already ends with 'ing' then add 'ly' instead. \n",
    "If the string length of the given string is less than 3, leave it unchanged.\n"
   ]
  },
  {
   "cell_type": "code",
   "execution_count": 102,
   "id": "84d2aa2e",
   "metadata": {},
   "outputs": [
    {
     "name": "stdout",
     "output_type": "stream",
     "text": [
      "enter the string--string\n",
      "stringly\n"
     ]
    }
   ],
   "source": [
    "s=str(input(\"enter the string--\"))\n",
    "if len(s)<3:\n",
    "    print(s)\n",
    "elif s[-3:]=='ing':\n",
    "    print(s+'ly')\n",
    "else:\n",
    "    print(s+'ing')\n",
    "    \n",
    "\n",
    "\n"
   ]
  },
  {
   "cell_type": "markdown",
   "id": "62a905c9",
   "metadata": {},
   "source": [
    "Q.14 Write a Python program to remove the characters which have odd index values of a given string.\n"
   ]
  },
  {
   "cell_type": "code",
   "execution_count": 107,
   "id": "09e55a86",
   "metadata": {},
   "outputs": [
    {
     "name": "stdout",
     "output_type": "stream",
     "text": [
      "enter the string--rupanshi\n",
      "rpnh\n"
     ]
    }
   ],
   "source": [
    "s=str(input(\"enter the string--\"))\n",
    "even=\"\"\n",
    "for i in range(len(s)):\n",
    "    if i%2==0:\n",
    "        even=even+s[i]\n",
    "print(even)"
   ]
  },
  {
   "cell_type": "markdown",
   "id": "0e318070",
   "metadata": {},
   "source": [
    "Q.15 Write a Python function to convert a given string to all uppercase if it \n",
    "contains at least 2 uppercase characters in the first 4 characters.\n"
   ]
  },
  {
   "cell_type": "code",
   "execution_count": 1,
   "id": "775afb3b",
   "metadata": {},
   "outputs": [
    {
     "name": "stdout",
     "output_type": "stream",
     "text": [
      "enter the string--RUpanshi\n",
      "RUPANSHI\n"
     ]
    }
   ],
   "source": [
    "s=str(input(\"enter the string--\"))\n",
    "count=0\n",
    "for i in s[:4]:\n",
    "    if ord(i) in range(65,91):\n",
    "        count+=1\n",
    "        if count>=2:\n",
    "            s1=s.upper()\n",
    "            print(s1)\n",
    "            break\n",
    "else:\n",
    "    print(s)\n",
    "\n",
    "\n",
    "    \n",
    "        "
   ]
  },
  {
   "cell_type": "markdown",
   "id": "9b69ebee",
   "metadata": {},
   "source": [
    "Q.16 Write a Python program to print the index of the character in a string"
   ]
  },
  {
   "cell_type": "code",
   "execution_count": 141,
   "id": "03ccc99c",
   "metadata": {},
   "outputs": [
    {
     "name": "stdout",
     "output_type": "stream",
     "text": [
      "enter the stringRupanshi\n",
      "current character R position at 0\n",
      "current character u position at 1\n",
      "current character p position at 2\n",
      "current character a position at 3\n",
      "current character n position at 4\n",
      "current character s position at 5\n",
      "current character h position at 6\n",
      "current character i position at 7\n"
     ]
    }
   ],
   "source": [
    "s=str(input(\"enter the string\"))\n",
    "for i in s:\n",
    "    print(\"current character\",i,\"position at\",s.index(i))"
   ]
  },
  {
   "cell_type": "markdown",
   "id": "d15adbdb",
   "metadata": {},
   "source": [
    "Q.17 Write a Python program to check whether a string contains all letters of the alphabet.\n"
   ]
  },
  {
   "cell_type": "code",
   "execution_count": 169,
   "id": "514791d8",
   "metadata": {},
   "outputs": [
    {
     "name": "stdout",
     "output_type": "stream",
     "text": [
      "enter the string---abcdefghijklmnopqrstuvwxyz\n",
      "all alphabets are present\n"
     ]
    }
   ],
   "source": [
    "s=str(input(\"enter the string---\"))\n",
    "alpha='abcdefghijklmnopqrstuvwxyz'\n",
    "flag=True\n",
    "for i in s:\n",
    "    if i not in s.lower():\n",
    "        flag=False\n",
    "if(flag==True):\n",
    "    print(\"all alphabets are present\")\n",
    "else:\n",
    "    print(\"false not present\")"
   ]
  },
  {
   "cell_type": "code",
   "execution_count": null,
   "id": "5495e09a",
   "metadata": {},
   "outputs": [],
   "source": []
  }
 ],
 "metadata": {
  "kernelspec": {
   "display_name": "Python 3 (ipykernel)",
   "language": "python",
   "name": "python3"
  },
  "language_info": {
   "codemirror_mode": {
    "name": "ipython",
    "version": 3
   },
   "file_extension": ".py",
   "mimetype": "text/x-python",
   "name": "python",
   "nbconvert_exporter": "python",
   "pygments_lexer": "ipython3",
   "version": "3.9.12"
  }
 },
 "nbformat": 4,
 "nbformat_minor": 5
}
