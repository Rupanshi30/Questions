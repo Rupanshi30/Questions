{
 "cells": [
  {
   "cell_type": "markdown",
   "id": "892b7588",
   "metadata": {},
   "source": [
    "Q.1 Write a Python program to sum all the items in a list\n"
   ]
  },
  {
   "cell_type": "code",
   "execution_count": 3,
   "id": "76904704",
   "metadata": {},
   "outputs": [
    {
     "name": "stdout",
     "output_type": "stream",
     "text": [
      "enter the list1 2 3 4 5\n",
      "15\n"
     ]
    }
   ],
   "source": [
    "l=input(\"enter the list\").split(\" \")\n",
    "sum=0\n",
    "for i in l:\n",
    "    i=int(i)\n",
    "    sum+=i\n",
    "print(sum)"
   ]
  },
  {
   "cell_type": "markdown",
   "id": "9b846f7b",
   "metadata": {},
   "source": [
    "Q.2  Write a Python program to get the smallest number from a list.\n"
   ]
  },
  {
   "cell_type": "code",
   "execution_count": 7,
   "id": "ec64757c",
   "metadata": {},
   "outputs": [
    {
     "name": "stdout",
     "output_type": "stream",
     "text": [
      "-2 is smallest number\n"
     ]
    }
   ],
   "source": [
    "s=[1,4,5,6,7,2,0,9,-2]\n",
    "smallest=s[0]\n",
    "for i in s:\n",
    "    if i<smallest:\n",
    "        smallest=i\n",
    "print(smallest,\"is smallest number\")"
   ]
  },
  {
   "cell_type": "markdown",
   "id": "f3f39eee",
   "metadata": {},
   "source": [
    "Q.3 Write a program to find unique elements of string specified by user and display unique elements in list\n"
   ]
  },
  {
   "cell_type": "code",
   "execution_count": 10,
   "id": "7ccec98f",
   "metadata": {},
   "outputs": [
    {
     "name": "stdout",
     "output_type": "stream",
     "text": [
      "enter the element----hello hello 1 2 34 3 2 hello\n",
      "['hello', '1', '2', '34', '3']\n"
     ]
    }
   ],
   "source": [
    "unique=[]\n",
    "li=input(\"enter the element----\").split(\" \")\n",
    "for i in li:\n",
    "    if i not in unique:\n",
    "        unique.append(i)\n",
    "print(unique)\n",
    "          "
   ]
  },
  {
   "cell_type": "markdown",
   "id": "0d74cfe6",
   "metadata": {},
   "source": [
    "Q.4 Write a Python program to print a specified list after removing the 0th, 4th and 5th elements.\n"
   ]
  },
  {
   "cell_type": "code",
   "execution_count": 13,
   "id": "72bdb3e9",
   "metadata": {},
   "outputs": [
    {
     "name": "stdout",
     "output_type": "stream",
     "text": [
      "enter the list2 3 hello 4 [1,2,3] byee [2,34]\n",
      "['3', 'hello', '4', '[2,34]']\n"
     ]
    }
   ],
   "source": [
    "li=input(\"enter the list\").split(\" \")\n",
    "l1=li[1:4]+li[6:]\n",
    "print(l1)\n"
   ]
  },
  {
   "cell_type": "markdown",
   "id": "c1d3e827",
   "metadata": {},
   "source": [
    "Q.5 Write a program to display all the elements of odd position."
   ]
  },
  {
   "cell_type": "code",
   "execution_count": 14,
   "id": "854a02e6",
   "metadata": {},
   "outputs": [
    {
     "name": "stdout",
     "output_type": "stream",
     "text": [
      "enter the string---1 2 3 4 5 6 7 8\n"
     ]
    },
    {
     "data": {
      "text/plain": [
       "'2468'"
      ]
     },
     "execution_count": 14,
     "metadata": {},
     "output_type": "execute_result"
    }
   ],
   "source": [
    "def odd(str1):\n",
    "    even=\"\"\n",
    "    for i in range(len(str1)):\n",
    "        if i%2!=0:\n",
    "            even=even+str1[i]\n",
    "    return even\n",
    "string=input(\"enter the string---\").split(\" \")\n",
    "odd(string)"
   ]
  },
  {
   "cell_type": "markdown",
   "id": "213e0469",
   "metadata": {},
   "source": [
    "Q.6 Write a Python program to convert a string to a list.\n"
   ]
  },
  {
   "cell_type": "code",
   "execution_count": 9,
   "id": "48b0e28d",
   "metadata": {},
   "outputs": [
    {
     "name": "stdout",
     "output_type": "stream",
     "text": [
      "enter the string--hii how r u\n",
      "<class 'str'>\n",
      "['h', 'i', 'i', ' ', 'h', 'o', 'w', ' ', 'r', ' ', 'u']\n"
     ]
    },
    {
     "data": {
      "text/plain": [
       "list"
      ]
     },
     "execution_count": 9,
     "metadata": {},
     "output_type": "execute_result"
    }
   ],
   "source": [
    "s=str(input(\"enter the string--\"))\n",
    "print(type(s))\n",
    "si=list(s)\n",
    "print(si)\n",
    "type(si)"
   ]
  },
  {
   "cell_type": "markdown",
   "id": "1801d009",
   "metadata": {},
   "source": [
    "Q.7 Write a Python program to insert an element at a specified position into a given list.\n"
   ]
  },
  {
   "cell_type": "code",
   "execution_count": 22,
   "id": "c4072739",
   "metadata": {},
   "outputs": [
    {
     "name": "stdout",
     "output_type": "stream",
     "text": [
      "enter the list1 2 3 45 67 45 77\n",
      "['1', '2', '3', '45', '67', 50, '45', '77']\n"
     ]
    }
   ],
   "source": [
    "l=input(\"enter the list\").split(\" \")\n",
    "l.insert(5,50)\n",
    "print(l)"
   ]
  },
  {
   "cell_type": "markdown",
   "id": "02512333",
   "metadata": {},
   "source": [
    "Q.8 How to reverse the List using slice\n"
   ]
  },
  {
   "cell_type": "code",
   "execution_count": 18,
   "id": "5184e166",
   "metadata": {},
   "outputs": [
    {
     "name": "stdout",
     "output_type": "stream",
     "text": [
      "enter the list1 2 3 4 5\n",
      "['5', '4', '3', '2', '1']\n"
     ]
    }
   ],
   "source": [
    "l=input(\"enter the list\").split(\" \")\n",
    "l1=l[::-1]\n",
    "print(l1)"
   ]
  },
  {
   "cell_type": "markdown",
   "id": "77b8e6bf",
   "metadata": {},
   "source": [
    "Q.10 Program to convert a list into string\n"
   ]
  },
  {
   "cell_type": "code",
   "execution_count": 21,
   "id": "ddc62c06",
   "metadata": {},
   "outputs": [
    {
     "name": "stdout",
     "output_type": "stream",
     "text": [
      "enter the list1 2 3 hello\n",
      "<class 'list'>\n",
      "123hello\n",
      "<class 'str'>\n"
     ]
    }
   ],
   "source": [
    "l=input(\"enter the list\").split(\" \")\n",
    "print(type(l))\n",
    "s=\"\"\n",
    "for i in l:\n",
    "    s+=i\n",
    "print(s,)\n",
    "print(type(s))"
   ]
  },
  {
   "cell_type": "markdown",
   "id": "b1db2f02",
   "metadata": {},
   "source": [
    "Q.11 How to get the square of each list element between two range"
   ]
  },
  {
   "cell_type": "code",
   "execution_count": 9,
   "id": "dec841d9",
   "metadata": {},
   "outputs": [
    {
     "name": "stdout",
     "output_type": "stream",
     "text": [
      "enter the list34 56 788 6\n",
      "enter range0 3\n",
      "the square of list element  34 is-- 1156\n",
      "the square of list element  56 is-- 3136\n",
      "the square of list element  788 is-- 620944\n",
      "the square of list element  6 is-- 36\n"
     ]
    }
   ],
   "source": [
    "l=input(\"enter the list\").split(\" \")\n",
    "s,e=input(\"enter range\").split(\" \")\n",
    "s=int(s)\n",
    "e=int(e)\n",
    "l1=[]\n",
    "for i in l:\n",
    "    i=int(i)\n",
    "    for j in l[s:e+1]:\n",
    "        l1.append(j)\n",
    "        for k in l1:\n",
    "            k=int(k)\n",
    "            square=k*k\n",
    "        print(\"the square of list element \",k,\"is--\",square)\n",
    "    break\n",
    "   \n"
   ]
  },
  {
   "cell_type": "markdown",
   "id": "4f22d16d",
   "metadata": {},
   "source": [
    "Q.12 How to Filter even values from a list using list comprehension\n"
   ]
  },
  {
   "cell_type": "code",
   "execution_count": 17,
   "id": "5e66be50",
   "metadata": {},
   "outputs": [
    {
     "name": "stdout",
     "output_type": "stream",
     "text": [
      "[6, 78, 8] ----even_no\n"
     ]
    }
   ],
   "source": [
    "lis=[1,23,45,5,6,67,78,8]\n",
    "lis2 = [i for i in lis if i%2 == 0]\n",
    "print(lis2,\"----even_no\")"
   ]
  },
  {
   "cell_type": "markdown",
   "id": "8b14f668",
   "metadata": {},
   "source": [
    "Q.13 How to remove elements in a list before a specific index"
   ]
  },
  {
   "cell_type": "code",
   "execution_count": 1,
   "id": "196565bc",
   "metadata": {},
   "outputs": [
    {
     "name": "stdout",
     "output_type": "stream",
     "text": [
      "enter list:1 2 3 4 5 6 7\n",
      "enter the index value--2\n",
      "['3', '4', '5', '6']\n"
     ]
    }
   ],
   "source": [
    "l=input(\"enter list:\").split(\" \")\n",
    "ind=int(input(\"enter the index value--\"))\n",
    "if ind<=len(l):\n",
    "    l=l[ind:-1]\n",
    "print(l)"
   ]
  },
  {
   "cell_type": "code",
   "execution_count": null,
   "id": "4a9db135",
   "metadata": {},
   "outputs": [],
   "source": []
  }
 ],
 "metadata": {
  "kernelspec": {
   "display_name": "Python 3 (ipykernel)",
   "language": "python",
   "name": "python3"
  },
  "language_info": {
   "codemirror_mode": {
    "name": "ipython",
    "version": 3
   },
   "file_extension": ".py",
   "mimetype": "text/x-python",
   "name": "python",
   "nbconvert_exporter": "python",
   "pygments_lexer": "ipython3",
   "version": "3.9.12"
  }
 },
 "nbformat": 4,
 "nbformat_minor": 5
}
