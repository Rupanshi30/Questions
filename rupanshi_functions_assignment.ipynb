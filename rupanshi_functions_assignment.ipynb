{
 "cells": [
  {
   "cell_type": "markdown",
   "id": "7b4742e8",
   "metadata": {},
   "source": [
    "### RUPANSHI"
   ]
  },
  {
   "cell_type": "markdown",
   "id": "ec9561c4",
   "metadata": {},
   "source": [
    "### Q.1 Write a function to reverse a string. \n",
    " Sample String : \"1234abcd\"\n",
    "Expected Output : \"dcba4321\"\n"
   ]
  },
  {
   "cell_type": "code",
   "execution_count": 22,
   "id": "c7a7ad68",
   "metadata": {},
   "outputs": [
    {
     "name": "stdout",
     "output_type": "stream",
     "text": [
      "enter the text:1234rupa\n",
      "apur4321\n"
     ]
    }
   ],
   "source": [
    "def reverse(text):\n",
    "    text=text[::-1]\n",
    "    print(text)\n",
    "num=input(\"enter the text:\")\n",
    "rev=reverse(num)\n",
    "\n",
    "        \n",
    "    \n",
    "    "
   ]
  },
  {
   "cell_type": "markdown",
   "id": "068e2d4d",
   "metadata": {},
   "source": [
    "### Q.2 Write a function to print the even numbers from a given list. \n",
    "Sample List : [1, 2, 3, 4, 5, 6, 7, 8, 9]\n",
    "Expected Result : [2, 4, 6, 8]"
   ]
  },
  {
   "cell_type": "code",
   "execution_count": 26,
   "id": "bcdfc645",
   "metadata": {},
   "outputs": [
    {
     "name": "stdout",
     "output_type": "stream",
     "text": [
      "enter the list:1,2,3,4,5,6,7,8\n",
      "[2,4,6,8,]"
     ]
    }
   ],
   "source": [
    "def even_list(li):\n",
    "    print(\"[\",end=\"\")\n",
    "    for i in li:\n",
    "        i=int(i)\n",
    "        if i%2==0:\n",
    "            print(i,end=\",\")\n",
    "        else:\n",
    "            pass\n",
    "\n",
    "    print(\"]\",end=\"\")\n",
    "    \n",
    "list=input(\"enter the list:\").split(\",\")\n",
    "even=even_list(list)"
   ]
  },
  {
   "cell_type": "markdown",
   "id": "bc40a3a6",
   "metadata": {},
   "source": [
    "### Q.3 Write a function to display count and display vowels and consonants in the string entered by user.\n"
   ]
  },
  {
   "cell_type": "code",
   "execution_count": 33,
   "id": "7694d7e5",
   "metadata": {},
   "outputs": [
    {
     "name": "stdout",
     "output_type": "stream",
     "text": [
      "enter the string: aeiousdfgh\n",
      "no of vowels are: 5\n",
      "no of consonants are: 5\n"
     ]
    }
   ],
   "source": [
    "def count(num):\n",
    "    vowel=0\n",
    "    consonant=0\n",
    "    for i in num:\n",
    "        if i in \"aeiou\":\n",
    "            vowel+=1\n",
    "        else:\n",
    "            consonant+=1\n",
    "    print(\"no of vowels are:\",vowel)\n",
    "    print(\"no of consonants are:\",consonant)\n",
    "text=input(\"enter the string: \")\n",
    "co=count(text)"
   ]
  },
  {
   "cell_type": "markdown",
   "id": "c3693742",
   "metadata": {},
   "source": [
    "### Q.4 Write a function to find the power of a number using function."
   ]
  },
  {
   "cell_type": "code",
   "execution_count": 35,
   "id": "f4c1510e",
   "metadata": {},
   "outputs": [
    {
     "name": "stdout",
     "output_type": "stream",
     "text": [
      "enter the number: 2 3\n",
      "8\n"
     ]
    }
   ],
   "source": [
    "def power(num,pow):\n",
    "    num=num**pow\n",
    "    print(num)\n",
    "n,p=input(\"enter the number: \").split(\" \")\n",
    "n=int(n)\n",
    "p=int(p)\n",
    "po=power(n,p)"
   ]
  },
  {
   "cell_type": "markdown",
   "id": "ec72a38b",
   "metadata": {},
   "source": [
    "### Q.5 Write a function name calculation which accepts two variables and calculate addition and subtraction. Also it returns both addition and subtraction result in a single return call."
   ]
  },
  {
   "cell_type": "code",
   "execution_count": 39,
   "id": "29188038",
   "metadata": {},
   "outputs": [
    {
     "name": "stdout",
     "output_type": "stream",
     "text": [
      "enter two number: -2 -5\n",
      "(-7, 3) addition and subtraction\n"
     ]
    }
   ],
   "source": [
    "def calculation(add,sub):\n",
    "    add=a+s\n",
    "    if a>s:\n",
    "        sub=a-s\n",
    "    else:\n",
    "        sub=s-a\n",
    "    return add,sub\n",
    "    \n",
    "a,s=input(\"enter two number: \").split(\" \")\n",
    "a=int(a)\n",
    "s=int(s)\n",
    "cal=calculation(a,s)\n",
    "print(cal,\"addition and subtraction\")\n",
    "    "
   ]
  },
  {
   "cell_type": "markdown",
   "id": "a5d5806d",
   "metadata": {},
   "source": [
    "### Q.6 Write a function which computes maximum of three numbers "
   ]
  },
  {
   "cell_type": "code",
   "execution_count": 42,
   "id": "c5875214",
   "metadata": {},
   "outputs": [
    {
     "name": "stdout",
     "output_type": "stream",
     "text": [
      "enter three numbers: -74 45 67\n",
      "67 is maximum of three numbers\n"
     ]
    }
   ],
   "source": [
    "def max_three(num1,num2,num3):\n",
    "    if num1>=num2 and num1>=num3:\n",
    "        return num1\n",
    "    elif num2>=num1 and num2>=num3:\n",
    "        return num2\n",
    "    else:\n",
    "        return num3\n",
    "        \n",
    "    \n",
    "    \n",
    "n1,n2,n3=input(\"enter three numbers: \").split(\" \")\n",
    "n1=int(n1)\n",
    "n2=int(n2)\n",
    "n3=int(n3)\n",
    "max=max_three(n1,n2,n3)\n",
    "print(max,\"is maximum of three numbers\")"
   ]
  },
  {
   "cell_type": "markdown",
   "id": "0fb94a21",
   "metadata": {},
   "source": [
    "### Q.7 Create an outer function that will accept two parameters, a and b .Create an inner function inside an outer function that will calculate the addition of a and b .At last, an outer function will add 5 into addition and return it\n"
   ]
  },
  {
   "cell_type": "code",
   "execution_count": 50,
   "id": "d724025b",
   "metadata": {},
   "outputs": [
    {
     "name": "stdout",
     "output_type": "stream",
     "text": [
      "enter two numbers: 2 3\n",
      "10 sum after adding 5\n"
     ]
    }
   ],
   "source": [
    "def outer_f(a,b):\n",
    "    def inner_f(c,d):\n",
    "        add=c+d\n",
    "        return add\n",
    "    inn=inner_f(a,b)\n",
    "    return inn+5\n",
    "        \n",
    "n1,n2=input(\"enter two numbers: \").split(\" \")\n",
    "n1=int(n1)\n",
    "n2=int(n2)\n",
    "out=outer_f(n1,n2)\n",
    "print(out,\"sum after adding 5\")\n",
    "        "
   ]
  },
  {
   "cell_type": "markdown",
   "id": "23a8eb90",
   "metadata": {},
   "source": [
    "### Q.8 Write a function which counts the even digits  and odd digits in the number entered by user.\n"
   ]
  },
  {
   "cell_type": "code",
   "execution_count": 55,
   "id": "28d1053d",
   "metadata": {},
   "outputs": [
    {
     "name": "stdout",
     "output_type": "stream",
     "text": [
      "enter the number9876543\n",
      "3 total even no\n",
      "4 total odd no\n"
     ]
    }
   ],
   "source": [
    "def count(n):\n",
    "    even=0\n",
    "    odd=0\n",
    "    while(n!=0):\n",
    "        r=n%10\n",
    "        if r%2==0:\n",
    "            even+=1\n",
    "        else:\n",
    "            odd+=1\n",
    "        n=n//10\n",
    "    print(even,\"total even no\")\n",
    "    print(odd,\"total odd no\")\n",
    "   \n",
    "num=int(input(\"enter the number\"))\n",
    "co=count(num)\n"
   ]
  },
  {
   "cell_type": "markdown",
   "id": "6c5bdc52",
   "metadata": {},
   "source": [
    "### Q.9 Write a function which takes the students details as name,marks of 3 subjects and display total marks and his percentage.\n"
   ]
  },
  {
   "cell_type": "code",
   "execution_count": 58,
   "id": "60e91147",
   "metadata": {},
   "outputs": [
    {
     "name": "stdout",
     "output_type": "stream",
     "text": [
      "enter the name: rupanshi\n",
      "enter the marks of three subjects: 45 67 89\n",
      "201 is total marks of three subjects\n",
      "67.0 is percentage of three subjects \n"
     ]
    }
   ],
   "source": [
    "def details(n1,n2,n3):\n",
    "    totalmarks=m1+m2+m3\n",
    "    print(totalmarks,\"is total marks of three subjects\")\n",
    "    percentage=totalmarks/3\n",
    "    print(percentage,\"is percentage of three subjects \")\n",
    "    \n",
    "name=input(\"enter the name: \")\n",
    "m1,m2,m3=input(\"enter the marks of three subjects: \").split(\" \")\n",
    "m1=int(m1)\n",
    "m2=int(m2)\n",
    "m3=int(m3)\n",
    "det=details(m1,m2,m3)"
   ]
  },
  {
   "cell_type": "markdown",
   "id": "77a5e400",
   "metadata": {},
   "source": [
    "### Q.10 Write a function to tell user if he/she is able to vote or not. "
   ]
  },
  {
   "cell_type": "code",
   "execution_count": 64,
   "id": "536fd1f5",
   "metadata": {},
   "outputs": [
    {
     "name": "stdout",
     "output_type": "stream",
     "text": [
      "enter the age:12\n",
      "not eligible for voting\n"
     ]
    }
   ],
   "source": [
    "def voting(a):\n",
    "    \n",
    "    if a<18:\n",
    "        print(\"not eligible for voting\")\n",
    "    elif a>=18:\n",
    "        print(\"eligible for voting\")\n",
    "    \n",
    "age=int(input(\"enter the age:\"))\n",
    "vo=voting(age)"
   ]
  },
  {
   "cell_type": "markdown",
   "id": "2a2548f5",
   "metadata": {},
   "source": [
    "### Q.11 Write a function to calculate area and perimeter of a rectangle.\n"
   ]
  },
  {
   "cell_type": "code",
   "execution_count": 66,
   "id": "5bbcba1a",
   "metadata": {},
   "outputs": [
    {
     "name": "stdout",
     "output_type": "stream",
     "text": [
      "enter the details:4 5\n",
      "20 is area of rectangle\n",
      "18 is perimeter of rectangle\n"
     ]
    }
   ],
   "source": [
    "def ar_rect(l,w):\n",
    "    area=l*w\n",
    "    print(area,\"is area of rectangle\")\n",
    "    perimeter= 2*(l+w)\n",
    "    print(perimeter,\"is perimeter of rectangle\")\n",
    "    \n",
    "    \n",
    "length,width=input(\"enter the details:\").split(\" \")\n",
    "length=int(length)\n",
    "width=int(width)\n",
    "rect=ar_rect(length,width)"
   ]
  },
  {
   "cell_type": "markdown",
   "id": "de3ada7e",
   "metadata": {},
   "source": [
    "### Q.12 Write a function to calculate area and circumference of a circle."
   ]
  },
  {
   "cell_type": "code",
   "execution_count": 71,
   "id": "826a8caa",
   "metadata": {},
   "outputs": [
    {
     "name": "stdout",
     "output_type": "stream",
     "text": [
      "enter the details:3\n",
      "28.285714285714285 is area of circle\n",
      "18.857142857142858 is circumference of circle\n"
     ]
    }
   ],
   "source": [
    "def ar_circle(r):\n",
    "    pi=22/7\n",
    "    area=pi*r*r\n",
    "    print(area,\"is area of circle\")\n",
    "    circumference=2*pi*r\n",
    "    print(circumference,\"is circumference of circle\")\n",
    "    \n",
    "    \n",
    "radius=float(input(\"enter the details:\"))\n",
    "cir=ar_circle(radius)"
   ]
  },
  {
   "cell_type": "markdown",
   "id": "ee308755",
   "metadata": {},
   "source": [
    "### Q.13 Write a function to calculate the multiplication of all the elements in the list."
   ]
  },
  {
   "cell_type": "code",
   "execution_count": 77,
   "id": "718c7b80",
   "metadata": {},
   "outputs": [
    {
     "name": "stdout",
     "output_type": "stream",
     "text": [
      "enter the list:1 2 3 4\n",
      "24 is multiplication of the list\n"
     ]
    }
   ],
   "source": [
    "def cal_mult(l):\n",
    "    m=1\n",
    "    for i in l:\n",
    "        i=int(i)\n",
    "        m=m*i\n",
    "    print(m,\"is multiplication of the list\")\n",
    "    \n",
    "list=input(\"enter the list:\").split(\" \")\n",
    "mul=cal_mult(list)"
   ]
  },
  {
   "cell_type": "code",
   "execution_count": null,
   "id": "e1d54cfb",
   "metadata": {},
   "outputs": [],
   "source": []
  }
 ],
 "metadata": {
  "kernelspec": {
   "display_name": "Python 3 (ipykernel)",
   "language": "python",
   "name": "python3"
  },
  "language_info": {
   "codemirror_mode": {
    "name": "ipython",
    "version": 3
   },
   "file_extension": ".py",
   "mimetype": "text/x-python",
   "name": "python",
   "nbconvert_exporter": "python",
   "pygments_lexer": "ipython3",
   "version": "3.9.12"
  }
 },
 "nbformat": 4,
 "nbformat_minor": 5
}
